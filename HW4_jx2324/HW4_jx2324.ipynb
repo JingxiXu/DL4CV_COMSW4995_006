{
 "cells": [
  {
   "cell_type": "markdown",
   "metadata": {},
   "source": [
    "# Deep Learning for Computer Vision:  Assignment 4"
   ]
  },
  {
   "cell_type": "markdown",
   "metadata": {},
   "source": [
    "## Computer Science: COMS W 4995 006"
   ]
  },
  {
   "cell_type": "markdown",
   "metadata": {},
   "source": [
    "### Due: March 20, 2018\n",
    "\n",
    "### Problem"
   ]
  },
  {
   "cell_type": "markdown",
   "metadata": {},
   "source": [
    "In this notebook we provide three networks for classifying handwritten digits from the MNIST dataset. The networks are implemented and tested using the Tensorflow framework. The third and final network is a convolutional neural network (CNN aka ConvNet) which achieves 99.25% accuracy on this dataset. \n",
    "\n",
    "Your task is to re-implement all three networks using the Keras wrapper around Tensorflow OR\n",
    "re-implement using Pytorch. You will likely find several Keras or Pytorch implementations on the internet. It is ok to study these. However, you must not cut and paste this code into your assignment--you must write this yourself. Furthermore, you need to comment every line of code and succintly explain what it is doing! \n",
    "\n",
    "Here is what is required:\n",
    "\n",
    "a) A FULLY commented re-implementation of the ConvNet below using the Keras wrapper on Tensorflow OR Pytorch.\n",
    "\n",
    "b) your network trained on the same MNIST data as used here.\n",
    "\n",
    "c) an evaluation of the accuracy on the MNIST test set.\n",
    "\n",
    "d) plots of 10 randomly selected digits from the test set along with the correct label and the assigned label.\n",
    "\n",
    "e) have your training record a log of the data using the Keras API and then use Tensorboard (a command line tool) to display plots of the validation loss and validation accuracy. you can zip up a screenshot of this with your notebook before submission.\n",
    "\n",
    "f) have your training continually save the best model so far (as determined by the validation loss) using the Keras API or Pytorch.\n",
    "\n",
    "g) after training, load the saved weights using the best model so far. re-run you accuracy evaluation using these saved weights.\n",
    "\n",
    "Below we include the Tensorflow examples shown in class."
   ]
  },
  {
   "cell_type": "markdown",
   "metadata": {},
   "source": [
    "### A Simple Convolutional Neural Network in Tensorflow"
   ]
  },
  {
   "cell_type": "markdown",
   "metadata": {},
   "source": [
    "This notebook covers a python and tensorflow-based solution to the handwritten digits recognition problem. It is based on tensorflow tutorials and Yann LeCun's early work on CNN's. This toturial compares a simple softmax regressor, a multi-layer perceptron (MLP), and a simple convolutional neural network (CNN)."
   ]
  },
  {
   "cell_type": "markdown",
   "metadata": {},
   "source": [
    "Load in the MNIST digit dataset directly from tensorflow examples."
   ]
  },
  {
   "cell_type": "code",
   "execution_count": 2,
   "metadata": {},
   "outputs": [
    {
     "name": "stdout",
     "output_type": "stream",
     "text": [
      "Extracting MNIST_data/train-images-idx3-ubyte.gz\n",
      "Extracting MNIST_data/train-labels-idx1-ubyte.gz\n",
      "Extracting MNIST_data/t10k-images-idx3-ubyte.gz\n",
      "Extracting MNIST_data/t10k-labels-idx1-ubyte.gz\n"
     ]
    }
   ],
   "source": [
    "from tensorflow.examples.tutorials.mnist import input_data\n",
    "mnist = input_data.read_data_sets('MNIST_data', one_hot=True)"
   ]
  },
  {
   "cell_type": "markdown",
   "metadata": {},
   "source": [
    "The MNIST data is split into three parts: 55,000 data points of training data (mnist.train), 10,000 points of test data (mnist.test), and 5,000 points of validation data (mnist.validation). "
   ]
  },
  {
   "cell_type": "markdown",
   "metadata": {},
   "source": [
    "Let's import tensorflow and begin an interactive session."
   ]
  },
  {
   "cell_type": "code",
   "execution_count": 34,
   "metadata": {},
   "outputs": [],
   "source": [
    "import tensorflow as tf\n",
    "sess = tf.InteractiveSession()"
   ]
  },
  {
   "cell_type": "markdown",
   "metadata": {},
   "source": [
    "## Softmax Regression Model on the MNIST Digits Data"
   ]
  },
  {
   "cell_type": "markdown",
   "metadata": {},
   "source": [
    "We need to create placeholders for the data. Data will be dumped here when it is batched from the MNIST dataset."
   ]
  },
  {
   "cell_type": "code",
   "execution_count": 88,
   "metadata": {},
   "outputs": [],
   "source": [
    "x = tf.placeholder(tf.float32, shape=[None, 784])\n",
    "y_ = tf.placeholder(tf.float32, shape=[None, 10])"
   ]
  },
  {
   "cell_type": "markdown",
   "metadata": {},
   "source": [
    "Now let's see what this data looks like."
   ]
  },
  {
   "cell_type": "code",
   "execution_count": 89,
   "metadata": {},
   "outputs": [
    {
     "data": {
      "image/png": "[encoded data removed]",
      "text/plain": [
       "<Figure size 432x288 with 1 Axes>"
      ]
     },
     "metadata": {},
     "output_type": "display_data"
    },
    {
     "data": {
      "image/png": "[encoded data removed]",
      "text/plain": [
       "<Figure size 432x288 with 1 Axes>"
      ]
     },
     "metadata": {},
     "output_type": "display_data"
    },
    {
     "data": {
      "image/png": "[encoded data removed]",
      "text/plain": [
       "<Figure size 432x288 with 1 Axes>"
      ]
     },
     "metadata": {},
     "output_type": "display_data"
    },
    {
     "data": {
      "image/png": "[encoded data removed]",
      "text/plain": [
       "<Figure size 432x288 with 1 Axes>"
      ]
     },
     "metadata": {},
     "output_type": "display_data"
    }
   ],
   "source": [
    "import matplotlib.pyplot as plt\n",
    "import numpy as np\n",
    "\n",
    "for i in range(4):\n",
    "    batch = mnist.test.next_batch(1)\n",
    "    image = np.asarray(batch[0]).reshape((28, 28))\n",
    "    label = batch[1]\n",
    "    \n",
    "    plt.imshow(image, cmap='gray')\n",
    "    plt.axis(\"off\")\n",
    "    plt.show()"
   ]
  },
  {
   "cell_type": "markdown",
   "metadata": {},
   "source": [
    "We are first going to do softmax logistic regression. This is a linear layer followed by softmax. Note there are NO hidden layers here. Also note that the digit images (28x28 grayscale images) are reshaped into a 784 element vector. "
   ]
  },
  {
   "cell_type": "markdown",
   "metadata": {},
   "source": [
    "Below we create the parameters (weights) for our linear layer."
   ]
  },
  {
   "cell_type": "code",
   "execution_count": 90,
   "metadata": {},
   "outputs": [],
   "source": [
    "W = tf.Variable(tf.zeros([784,10]))\n",
    "b = tf.Variable(tf.zeros([10]))"
   ]
  },
  {
   "cell_type": "markdown",
   "metadata": {},
   "source": [
    "We then use tensorflows initializer to initialize these weights."
   ]
  },
  {
   "cell_type": "code",
   "execution_count": 91,
   "metadata": {},
   "outputs": [],
   "source": [
    "sess.run(tf.global_variables_initializer())"
   ]
  },
  {
   "cell_type": "markdown",
   "metadata": {},
   "source": [
    "We create our linear layer as a function of the input and the weights."
   ]
  },
  {
   "cell_type": "code",
   "execution_count": 92,
   "metadata": {},
   "outputs": [],
   "source": [
    "y_regressor = tf.matmul(x,W) + b"
   ]
  },
  {
   "cell_type": "markdown",
   "metadata": {},
   "source": [
    "Below we create our loss function. Note that the cross entropy is $ H_{\\hat{y}}(y) = -\\sum_i \\hat{y}_{i} \\, \\log(y_{i})$ where $\\hat{y}$ is the true probability distribution and is expressed as a one-hot vector, $y$ is the estimated probability distribution, and $i$ indexes elements of these two vectors. Also note that this reduces to $ H_{\\hat{y}}(y) = -\\, \\log(y_{i^*})$ where $i^*$ is the correct label. And if we sum this over all of our samples indexed by $j$, then $H_{\\hat{y}}(y) = -\\sum_j  \\log(y^{(j)}_{i^*})$. This is precisely the same loss function as we used before, but we called the MLE loss. They are one and the same."
   ]
  },
  {
   "cell_type": "code",
   "execution_count": 93,
   "metadata": {},
   "outputs": [],
   "source": [
    "cross_entropy = tf.reduce_mean(\n",
    "    tf.nn.softmax_cross_entropy_with_logits(labels=y_, logits=y_regressor))"
   ]
  },
  {
   "cell_type": "markdown",
   "metadata": {},
   "source": [
    "Now we tell tf to use gradient descent with a step size of 0.5 and to minimize the cross entropy."
   ]
  },
  {
   "cell_type": "code",
   "execution_count": 94,
   "metadata": {},
   "outputs": [],
   "source": [
    "train_step = tf.train.GradientDescentOptimizer(0.5).minimize(cross_entropy)"
   ]
  },
  {
   "cell_type": "markdown",
   "metadata": {},
   "source": [
    "We train by grabbing mini-batches with 100 samples each and pushing these through the network to update our weights (W and b)."
   ]
  },
  {
   "cell_type": "code",
   "execution_count": 95,
   "metadata": {},
   "outputs": [],
   "source": [
    "for _ in range(1000):\n",
    "  batch = mnist.train.next_batch(100)\n",
    "  train_step.run(feed_dict={x: batch[0], y_: batch[1]})"
   ]
  },
  {
   "cell_type": "markdown",
   "metadata": {},
   "source": [
    "We define how to compute correct predicitions."
   ]
  },
  {
   "cell_type": "code",
   "execution_count": 96,
   "metadata": {},
   "outputs": [],
   "source": [
    "correct_prediction = tf.equal(tf.argmax(y_regressor,1), tf.argmax(y_,1))"
   ]
  },
  {
   "cell_type": "markdown",
   "metadata": {},
   "source": [
    "And from these correct predictions how to compute the accuracy."
   ]
  },
  {
   "cell_type": "code",
   "execution_count": 97,
   "metadata": {},
   "outputs": [],
   "source": [
    "accuracy = tf.reduce_mean(tf.cast(correct_prediction, tf.float32))"
   ]
  },
  {
   "cell_type": "code",
   "execution_count": 98,
   "metadata": {},
   "outputs": [
    {
     "name": "stdout",
     "output_type": "stream",
     "text": [
      "0.9168\n"
     ]
    }
   ],
   "source": [
    "print(accuracy.eval(feed_dict={x: mnist.test.images, y_: mnist.test.labels}))"
   ]
  },
  {
   "cell_type": "markdown",
   "metadata": {},
   "source": [
    "Let's print out some test images and the corresponsing predictions made by the network. But first, let's add an output to the computation graph that computes the softmax probabilities."
   ]
  },
  {
   "cell_type": "code",
   "execution_count": 99,
   "metadata": {},
   "outputs": [],
   "source": [
    "y_probs_regressor = tf.nn.softmax(logits=y_regressor, name=None)"
   ]
  },
  {
   "cell_type": "code",
   "execution_count": 100,
   "metadata": {},
   "outputs": [
    {
     "data": {
      "image/png": "[encoded data removed]",
      "text/plain": [
       "<Figure size 432x288 with 1 Axes>"
      ]
     },
     "metadata": {},
     "output_type": "display_data"
    },
    {
     "name": "stdout",
     "output_type": "stream",
     "text": [
      "Label =  [[0. 0. 0. 0. 0. 0. 0. 0. 0. 1.]]\n",
      "Class probabilities =  [[5.7868356e-06 1.0960512e-06 7.0933005e-05 1.3369437e-04 2.2966379e-01\n",
      "  4.3973927e-05 8.0909129e-05 2.7946601e-04 5.5398531e-03 7.6418048e-01]]\n"
     ]
    },
    {
     "data": {
      "image/png": "[encoded data removed]",
      "text/plain": [
       "<Figure size 432x288 with 1 Axes>"
      ]
     },
     "metadata": {},
     "output_type": "display_data"
    },
    {
     "name": "stdout",
     "output_type": "stream",
     "text": [
      "Label =  [[0. 0. 0. 0. 0. 0. 0. 0. 1. 0.]]\n",
      "Class probabilities =  [[1.07988366e-04 1.85040496e-02 6.85910694e-04 9.52854156e-01\n",
      "  3.68666690e-07 1.11012615e-03 3.56482616e-07 1.94580108e-03\n",
      "  1.34969251e-02 1.12942373e-02]]\n"
     ]
    },
    {
     "data": {
      "image/png": "[encoded data removed]",
      "text/plain": [
       "<Figure size 432x288 with 1 Axes>"
      ]
     },
     "metadata": {},
     "output_type": "display_data"
    },
    {
     "name": "stdout",
     "output_type": "stream",
     "text": [
      "Label =  [[0. 0. 0. 0. 0. 0. 1. 0. 0. 0.]]\n",
      "Class probabilities =  [[7.7000050e-07 1.9392106e-04 2.6541899e-03 1.9969192e-04 4.3661382e-02\n",
      "  3.7085495e-04 9.4621152e-01 2.3503811e-05 1.2821722e-03 5.4019629e-03]]\n"
     ]
    },
    {
     "data": {
      "image/png": "[encoded data removed]",
      "text/plain": [
       "<Figure size 432x288 with 1 Axes>"
      ]
     },
     "metadata": {},
     "output_type": "display_data"
    },
    {
     "name": "stdout",
     "output_type": "stream",
     "text": [
      "Label =  [[0. 0. 0. 1. 0. 0. 0. 0. 0. 0.]]\n",
      "Class probabilities =  [[4.0822830e-03 6.9544464e-02 1.0719517e-02 6.8291938e-01 1.6180762e-06\n",
      "  1.9808555e-01 2.7856557e-04 2.1188654e-04 3.3590816e-02 5.6585693e-04]]\n"
     ]
    },
    {
     "data": {
      "image/png": "[encoded data removed]",
      "text/plain": [
       "<Figure size 432x288 with 1 Axes>"
      ]
     },
     "metadata": {},
     "output_type": "display_data"
    },
    {
     "name": "stdout",
     "output_type": "stream",
     "text": [
      "Label =  [[0. 1. 0. 0. 0. 0. 0. 0. 0. 0.]]\n",
      "Class probabilities =  [[2.2713131e-05 9.7108227e-01 1.3474120e-02 5.9603201e-03 4.4256221e-06\n",
      "  7.7636359e-04 2.2026870e-04 1.5071974e-04 8.0492878e-03 2.5937715e-04]]\n"
     ]
    }
   ],
   "source": [
    "for i in range(5):\n",
    "    batch = mnist.test.next_batch(1)\n",
    "    image = np.asarray(batch[0]).reshape((28, 28))\n",
    "    label = batch[1]\n",
    "    \n",
    "    plt.imshow(image, cmap='gray')\n",
    "    plt.axis(\"off\")\n",
    "    plt.show()\n",
    "    print (\"Label = \", label)\n",
    "    print (\"Class probabilities = \", y_probs_regressor.eval(feed_dict={\n",
    "        x: batch[0], y_: batch[1]}))"
   ]
  },
  {
   "cell_type": "markdown",
   "metadata": {},
   "source": [
    "# Softmax regression model"
   ]
  },
  {
   "cell_type": "markdown",
   "metadata": {},
   "source": [
    "## a) - b) Re-implement softmax regression model and train it using keras"
   ]
  },
  {
   "cell_type": "code",
   "execution_count": 184,
   "metadata": {},
   "outputs": [],
   "source": [
    "from keras.models import Sequential\n",
    "from keras.layers import Dense, Activation\n",
    "from keras.optimizers import SGD\n",
    "from keras.callbacks import ModelCheckpoint, TensorBoard\n",
    "\n",
    "import matplotlib.pyplot as plt\n",
    "import numpy as np"
   ]
  },
  {
   "cell_type": "code",
   "execution_count": 185,
   "metadata": {},
   "outputs": [
    {
     "name": "stdout",
     "output_type": "stream",
     "text": [
      "Train on 55000 samples, validate on 5000 samples\n",
      "Epoch 1/30\n",
      "55000/55000 [==============================] - 1s 23us/step - loss: 0.3985 - acc: 0.8869 - val_loss: 0.2940 - val_acc: 0.9178\n",
      "\n",
      "Epoch 00001: val_acc improved from -inf to 0.91780, saving model to weights/weights_softmax_regression.hdf5\n",
      "Epoch 2/30\n",
      "55000/55000 [==============================] - 1s 17us/step - loss: 0.3104 - acc: 0.9117 - val_loss: 0.2797 - val_acc: 0.9226\n",
      "\n",
      "Epoch 00002: val_acc improved from 0.91780 to 0.92260, saving model to weights/weights_softmax_regression.hdf5\n",
      "Epoch 3/30\n",
      "55000/55000 [==============================] - 1s 17us/step - loss: 0.2947 - acc: 0.9167 - val_loss: 0.2784 - val_acc: 0.9226\n",
      "\n",
      "Epoch 00003: val_acc did not improve\n",
      "Epoch 4/30\n",
      "55000/55000 [==============================] - 1s 17us/step - loss: 0.2868 - acc: 0.9192 - val_loss: 0.2837 - val_acc: 0.9214\n",
      "\n",
      "Epoch 00004: val_acc did not improve\n",
      "Epoch 5/30\n",
      "55000/55000 [==============================] - 1s 17us/step - loss: 0.2814 - acc: 0.9209 - val_loss: 0.2726 - val_acc: 0.9254\n",
      "\n",
      "Epoch 00005: val_acc improved from 0.92260 to 0.92540, saving model to weights/weights_softmax_regression.hdf5\n",
      "Epoch 6/30\n",
      "55000/55000 [==============================] - 1s 17us/step - loss: 0.2776 - acc: 0.9222 - val_loss: 0.2708 - val_acc: 0.9240\n",
      "\n",
      "Epoch 00006: val_acc did not improve\n",
      "Epoch 7/30\n",
      "55000/55000 [==============================] - 1s 17us/step - loss: 0.2742 - acc: 0.9235 - val_loss: 0.2668 - val_acc: 0.9266\n",
      "\n",
      "Epoch 00007: val_acc improved from 0.92540 to 0.92660, saving model to weights/weights_softmax_regression.hdf5\n",
      "Epoch 8/30\n",
      "55000/55000 [==============================] - 1s 17us/step - loss: 0.2721 - acc: 0.9232 - val_loss: 0.2694 - val_acc: 0.9266\n",
      "\n",
      "Epoch 00008: val_acc did not improve\n",
      "Epoch 9/30\n",
      "55000/55000 [==============================] - 1s 17us/step - loss: 0.2690 - acc: 0.9244 - val_loss: 0.2663 - val_acc: 0.9280\n",
      "\n",
      "Epoch 00009: val_acc improved from 0.92660 to 0.92800, saving model to weights/weights_softmax_regression.hdf5\n",
      "Epoch 10/30\n",
      "55000/55000 [==============================] - 1s 18us/step - loss: 0.2669 - acc: 0.9265 - val_loss: 0.2641 - val_acc: 0.9262\n",
      "\n",
      "Epoch 00010: val_acc did not improve\n",
      "Epoch 11/30\n",
      "55000/55000 [==============================] - 1s 17us/step - loss: 0.2660 - acc: 0.9259 - val_loss: 0.2761 - val_acc: 0.9210\n",
      "\n",
      "Epoch 00011: val_acc did not improve\n",
      "Epoch 12/30\n",
      "55000/55000 [==============================] - 1s 17us/step - loss: 0.2643 - acc: 0.9255 - val_loss: 0.2649 - val_acc: 0.9280\n",
      "\n",
      "Epoch 00012: val_acc did not improve\n",
      "Epoch 13/30\n",
      "55000/55000 [==============================] - 1s 17us/step - loss: 0.2632 - acc: 0.9271 - val_loss: 0.2664 - val_acc: 0.9266\n",
      "\n",
      "Epoch 00013: val_acc did not improve\n",
      "Epoch 14/30\n",
      "55000/55000 [==============================] - 1s 17us/step - loss: 0.2619 - acc: 0.9277 - val_loss: 0.2648 - val_acc: 0.9270\n",
      "\n",
      "Epoch 00014: val_acc did not improve\n",
      "Epoch 15/30\n",
      "55000/55000 [==============================] - 1s 18us/step - loss: 0.2603 - acc: 0.9273 - val_loss: 0.2722 - val_acc: 0.9236\n",
      "\n",
      "Epoch 00015: val_acc did not improve\n",
      "Epoch 16/30\n",
      "55000/55000 [==============================] - 1s 17us/step - loss: 0.2591 - acc: 0.9277 - val_loss: 0.2634 - val_acc: 0.9294\n",
      "\n",
      "Epoch 00016: val_acc improved from 0.92800 to 0.92940, saving model to weights/weights_softmax_regression.hdf5\n",
      "Epoch 17/30\n",
      "55000/55000 [==============================] - 1s 17us/step - loss: 0.2583 - acc: 0.9281 - val_loss: 0.2677 - val_acc: 0.9278\n",
      "\n",
      "Epoch 00017: val_acc did not improve\n",
      "Epoch 18/30\n",
      "55000/55000 [==============================] - 1s 17us/step - loss: 0.2577 - acc: 0.9283 - val_loss: 0.2633 - val_acc: 0.9282\n",
      "\n",
      "Epoch 00018: val_acc did not improve\n",
      "Epoch 19/30\n",
      "55000/55000 [==============================] - 1s 17us/step - loss: 0.2565 - acc: 0.9286 - val_loss: 0.2655 - val_acc: 0.9282\n",
      "\n",
      "Epoch 00019: val_acc did not improve\n",
      "Epoch 20/30\n",
      "55000/55000 [==============================] - 1s 17us/step - loss: 0.2566 - acc: 0.9287 - val_loss: 0.2708 - val_acc: 0.9252\n",
      "\n",
      "Epoch 00020: val_acc did not improve\n",
      "Epoch 21/30\n",
      "55000/55000 [==============================] - 1s 17us/step - loss: 0.2554 - acc: 0.9287 - val_loss: 0.2744 - val_acc: 0.9226\n",
      "\n",
      "Epoch 00021: val_acc did not improve\n",
      "Epoch 22/30\n",
      "55000/55000 [==============================] - 1s 17us/step - loss: 0.2543 - acc: 0.9290 - val_loss: 0.2656 - val_acc: 0.9278\n",
      "\n",
      "Epoch 00022: val_acc did not improve\n",
      "Epoch 23/30\n",
      "55000/55000 [==============================] - 1s 17us/step - loss: 0.2538 - acc: 0.9292 - val_loss: 0.2721 - val_acc: 0.9242\n",
      "\n",
      "Epoch 00023: val_acc did not improve\n",
      "Epoch 24/30\n",
      "55000/55000 [==============================] - 1s 17us/step - loss: 0.2534 - acc: 0.9292 - val_loss: 0.2712 - val_acc: 0.9264\n",
      "\n",
      "Epoch 00024: val_acc did not improve\n",
      "Epoch 25/30\n",
      "55000/55000 [==============================] - 1s 17us/step - loss: 0.2519 - acc: 0.9295 - val_loss: 0.2719 - val_acc: 0.9240\n",
      "\n",
      "Epoch 00025: val_acc did not improve\n",
      "Epoch 26/30\n",
      "55000/55000 [==============================] - 1s 17us/step - loss: 0.2516 - acc: 0.9297 - val_loss: 0.2732 - val_acc: 0.9270\n",
      "\n",
      "Epoch 00026: val_acc did not improve\n",
      "Epoch 27/30\n",
      "55000/55000 [==============================] - 1s 17us/step - loss: 0.2523 - acc: 0.9291 - val_loss: 0.2770 - val_acc: 0.9258\n",
      "\n",
      "Epoch 00027: val_acc did not improve\n",
      "Epoch 28/30\n",
      "55000/55000 [==============================] - 1s 17us/step - loss: 0.2513 - acc: 0.9295 - val_loss: 0.2827 - val_acc: 0.9222\n",
      "\n",
      "Epoch 00028: val_acc did not improve\n",
      "Epoch 29/30\n",
      "55000/55000 [==============================] - 1s 18us/step - loss: 0.2499 - acc: 0.9303 - val_loss: 0.2675 - val_acc: 0.9276\n",
      "\n",
      "Epoch 00029: val_acc did not improve\n",
      "Epoch 30/30\n",
      "55000/55000 [==============================] - 1s 17us/step - loss: 0.2505 - acc: 0.9299 - val_loss: 0.2700 - val_acc: 0.9280\n",
      "\n",
      "Epoch 00030: val_acc did not improve\n"
     ]
    },
    {
     "data": {
      "text/plain": [
       "<keras.callbacks.History at 0x13a5ef2b0>"
      ]
     },
     "execution_count": 185,
     "metadata": {},
     "output_type": "execute_result"
    }
   ],
   "source": [
    "# initialize a sequential keras model for softmax regression\n",
    "model = Sequential([\n",
    "    # a single fully connected layer without activation function\n",
    "    # initialize weight and bias to be zero\n",
    "    Dense(10, input_dim=784, kernel_initializer='zeros', bias_initializer='zeros'),\n",
    "    # use softmax to compute 10 class possibilities\n",
    "    Activation('softmax'),\n",
    "])\n",
    "\n",
    "# define the SGD optimizaer for this model, set learning rate to be 0.5\n",
    "sgd = SGD(lr=0.5)\n",
    "\n",
    "# configure the training process, using SGD with cross entropy loss\n",
    "model.compile(optimizer=sgd,\n",
    "              loss='categorical_crossentropy',\n",
    "              metrics=['accuracy'])\n",
    "\n",
    "# checkpoint to save the model with best validation accuracy\n",
    "checkpointer = ModelCheckpoint(filepath='weights/weights_softmax_regression.hdf5', monitor='val_acc', verbose=1, save_best_only=True, mode='max')\n",
    "# another callback function to record a log of the data for tensorboard visualization\n",
    "tensorboard = TensorBoard(log_dir='tensorboard/', histogram_freq=0, write_graph=True, write_images=True)\n",
    "\n",
    "# start traing 30 epochs\n",
    "# batch size is 100\n",
    "model.fit(x=mnist.train.images, \n",
    "          y=mnist.train.labels, \n",
    "          validation_data=(mnist.validation.images, mnist.validation.labels), \n",
    "          callbacks=[checkpointer, tensorboard],\n",
    "          verbose=1,\n",
    "          epochs=30, \n",
    "          batch_size=100)"
   ]
  },
  {
   "cell_type": "markdown",
   "metadata": {},
   "source": [
    "## c) Evaluate performance on mnist test data"
   ]
  },
  {
   "cell_type": "code",
   "execution_count": 186,
   "metadata": {},
   "outputs": [
    {
     "name": "stdout",
     "output_type": "stream",
     "text": [
      "Accuracy on the MNIST test set: 0.9258, validation accuracy: 0.928\n"
     ]
    }
   ],
   "source": [
    "# accuracy on test data\n",
    "test_accuracy = model.evaluate(mnist.test.images, mnist.test.labels, verbose=0)[1]\n",
    "# accuracy on validation data\n",
    "validation_accuracy = model.evaluate(mnist.validation.images, mnist.validation.labels, verbose=0)[1]\n",
    "\n",
    "print(\"Accuracy on the MNIST test set: {}, validation accuracy: {}\".format(test_accuracy, validation_accuracy))"
   ]
  },
  {
   "cell_type": "markdown",
   "metadata": {},
   "source": [
    "## d) Plot 10 random images with true and predicted labels"
   ]
  },
  {
   "cell_type": "code",
   "execution_count": 187,
   "metadata": {},
   "outputs": [
    {
     "data": {
      "image/png": "[encoded data removed]",
      "text/plain": [
       "<Figure size 432x288 with 1 Axes>"
      ]
     },
     "metadata": {},
     "output_type": "display_data"
    },
    {
     "name": "stdout",
     "output_type": "stream",
     "text": [
      "Correct label: 4\n",
      "Assigned label: 4\n"
     ]
    },
    {
     "data": {
      "image/png": "[encoded data removed]",
      "text/plain": [
       "<Figure size 432x288 with 1 Axes>"
      ]
     },
     "metadata": {},
     "output_type": "display_data"
    },
    {
     "name": "stdout",
     "output_type": "stream",
     "text": [
      "Correct label: 7\n",
      "Assigned label: 7\n"
     ]
    },
    {
     "data": {
      "image/png": "[encoded data removed]",
      "text/plain": [
       "<Figure size 432x288 with 1 Axes>"
      ]
     },
     "metadata": {},
     "output_type": "display_data"
    },
    {
     "name": "stdout",
     "output_type": "stream",
     "text": [
      "Correct label: 9\n",
      "Assigned label: 9\n"
     ]
    },
    {
     "data": {
      "image/png": "[encoded data removed]",
      "text/plain": [
       "<Figure size 432x288 with 1 Axes>"
      ]
     },
     "metadata": {},
     "output_type": "display_data"
    },
    {
     "name": "stdout",
     "output_type": "stream",
     "text": [
      "Correct label: 4\n",
      "Assigned label: 4\n"
     ]
    },
    {
     "data": {
      "image/png": "[encoded data removed]",
      "text/plain": [
       "<Figure size 432x288 with 1 Axes>"
      ]
     },
     "metadata": {},
     "output_type": "display_data"
    },
    {
     "name": "stdout",
     "output_type": "stream",
     "text": [
      "Correct label: 6\n",
      "Assigned label: 6\n"
     ]
    },
    {
     "data": {
      "image/png": "[encoded data removed]",
      "text/plain": [
       "<Figure size 432x288 with 1 Axes>"
      ]
     },
     "metadata": {},
     "output_type": "display_data"
    },
    {
     "name": "stdout",
     "output_type": "stream",
     "text": [
      "Correct label: 4\n",
      "Assigned label: 4\n"
     ]
    },
    {
     "data": {
      "image/png": "[encoded data removed]",
      "text/plain": [
       "<Figure size 432x288 with 1 Axes>"
      ]
     },
     "metadata": {},
     "output_type": "display_data"
    },
    {
     "name": "stdout",
     "output_type": "stream",
     "text": [
      "Correct label: 4\n",
      "Assigned label: 4\n"
     ]
    },
    {
     "data": {
      "image/png": "[encoded data removed]",
      "text/plain": [
       "<Figure size 432x288 with 1 Axes>"
      ]
     },
     "metadata": {},
     "output_type": "display_data"
    },
    {
     "name": "stdout",
     "output_type": "stream",
     "text": [
      "Correct label: 3\n",
      "Assigned label: 3\n"
     ]
    },
    {
     "data": {
      "image/png": "[encoded data removed]",
      "text/plain": [
       "<Figure size 432x288 with 1 Axes>"
      ]
     },
     "metadata": {},
     "output_type": "display_data"
    },
    {
     "name": "stdout",
     "output_type": "stream",
     "text": [
      "Correct label: 5\n",
      "Assigned label: 5\n"
     ]
    },
    {
     "data": {
      "image/png": "[encoded data removed]",
      "text/plain": [
       "<Figure size 432x288 with 1 Axes>"
      ]
     },
     "metadata": {},
     "output_type": "display_data"
    },
    {
     "name": "stdout",
     "output_type": "stream",
     "text": [
      "Correct label: 2\n",
      "Assigned label: 2\n"
     ]
    }
   ],
   "source": [
    "for i in range(10):\n",
    "    batch = mnist.test.next_batch(1)\n",
    "    image = np.asarray(batch[0]).reshape((28, 28))\n",
    "    label = batch[1]\n",
    "    \n",
    "    plt.imshow(image, cmap='gray')\n",
    "    plt.axis(\"off\")\n",
    "    plt.show()\n",
    "    print(\"Correct label: {}\".format(np.argmax(label)))\n",
    "    print(\"Assigned label: {}\".format(np.argmax(model.predict(image.reshape(1, 784)))))"
   ]
  },
  {
   "cell_type": "markdown",
   "metadata": {},
   "source": [
    "## e) See the submitted screen shot - softmax_regression.png\n",
    "![softmax_regression](screenshots/softmax_regression.png)"
   ]
  },
  {
   "cell_type": "markdown",
   "metadata": {},
   "source": [
    "## f) - g) Load the best model saved by the program"
   ]
  },
  {
   "cell_type": "code",
   "execution_count": 188,
   "metadata": {},
   "outputs": [
    {
     "name": "stdout",
     "output_type": "stream",
     "text": [
      "Model with best validation accuracy\n",
      "Accuracy on the MNIST test set: 0.9239, validation accuracy: 0.9294\n"
     ]
    }
   ],
   "source": [
    "# load the weights\n",
    "model.load_weights(filepath='weights/weights_softmax_regression.hdf5')\n",
    "# accuracy of best model on test data \n",
    "test_accuracy_best = model.evaluate(mnist.test.images, mnist.test.labels, verbose=0)[1]\n",
    "# accuracy of best model on validation data\n",
    "validation_accuracy_best = model.evaluate(mnist.validation.images, mnist.validation.labels, verbose=0)[1]\n",
    "\n",
    "print(\"Model with best validation accuracy\\nAccuracy on the MNIST test set: {}, validation accuracy: {}\".format(test_accuracy_best, validation_accuracy_best))"
   ]
  },
  {
   "cell_type": "markdown",
   "metadata": {},
   "source": [
    "## Softmax Multi-Layer Perceptron on the MNIST Digits Data"
   ]
  },
  {
   "cell_type": "markdown",
   "metadata": {},
   "source": [
    "Here we define both weight and bias variables and how they are to be initialized. Note that the weights are are distributed according to a standard normal distribution (mean = 0, std = 0.1). This random initialization helps avoid hidden units get stuck together, as units that start with the same value will be updated identically in the non-convolutional layers. In contrast, the bias variables are set to a small positive number--this is help prevent hidden units from starting out and getting stuck in the zero part of the ReLU. "
   ]
  },
  {
   "cell_type": "code",
   "execution_count": 32,
   "metadata": {},
   "outputs": [],
   "source": [
    "def weight_variable(shape):\n",
    "  initial = tf.truncated_normal(shape, stddev=0.1)\n",
    "  return tf.Variable(initial)\n",
    "\n",
    "def bias_variable(shape):\n",
    "  initial = tf.constant(0.1, shape=shape)\n",
    "  return tf.Variable(initial)"
   ]
  },
  {
   "cell_type": "markdown",
   "metadata": {},
   "source": [
    "Next we create placeholders for the training data."
   ]
  },
  {
   "cell_type": "code",
   "execution_count": 35,
   "metadata": {},
   "outputs": [],
   "source": [
    "x = tf.placeholder(tf.float32, shape=[None, 784])\n",
    "y_ = tf.placeholder(tf.float32, shape=[None, 10])"
   ]
  },
  {
   "cell_type": "markdown",
   "metadata": {},
   "source": [
    "We create the first and only fully connected hidden layer."
   ]
  },
  {
   "cell_type": "code",
   "execution_count": 36,
   "metadata": {},
   "outputs": [],
   "source": [
    "W_h = weight_variable([784, 512])\n",
    "b_h = bias_variable([512])\n",
    "h = tf.nn.relu(tf.matmul(x, W_h) + b_h)"
   ]
  },
  {
   "cell_type": "markdown",
   "metadata": {},
   "source": [
    "We create the output layer."
   ]
  },
  {
   "cell_type": "code",
   "execution_count": 37,
   "metadata": {},
   "outputs": [],
   "source": [
    "W_out = weight_variable([512, 10])\n",
    "b_out = bias_variable([10])\n",
    "y_MLP = tf.matmul(h, W_out) + b_out"
   ]
  },
  {
   "cell_type": "markdown",
   "metadata": {},
   "source": [
    "We again use cross entropy loss on a softmax distribution on the outputs."
   ]
  },
  {
   "cell_type": "code",
   "execution_count": 39,
   "metadata": {},
   "outputs": [],
   "source": [
    "cross_entropy = tf.reduce_mean(\n",
    "    tf.nn.softmax_cross_entropy_with_logits(labels=y_, logits=y_MLP))"
   ]
  },
  {
   "cell_type": "markdown",
   "metadata": {},
   "source": [
    "For training we choose an Adam learning rate and update rule. We then run this for 20,000 iterations and evaluate our accuracy after training. Note this softmax MLP network does quite a bit bettter than our softmax regressor. The non-linear layer really helps makes sense of the data! But we can do better still..."
   ]
  },
  {
   "cell_type": "code",
   "execution_count": 40,
   "metadata": {
    "scrolled": false
   },
   "outputs": [
    {
     "name": "stdout",
     "output_type": "stream",
     "text": [
      "step 0, training accuracy 0.14\n",
      "step 1000, training accuracy 0.88\n",
      "step 2000, training accuracy 0.92\n",
      "step 3000, training accuracy 0.92\n",
      "step 4000, training accuracy 1\n",
      "step 5000, training accuracy 1\n",
      "step 6000, training accuracy 0.98\n",
      "step 7000, training accuracy 1\n",
      "step 8000, training accuracy 0.96\n",
      "step 9000, training accuracy 1\n",
      "step 10000, training accuracy 0.92\n",
      "step 11000, training accuracy 1\n",
      "step 12000, training accuracy 1\n",
      "step 13000, training accuracy 1\n",
      "step 14000, training accuracy 1\n",
      "step 15000, training accuracy 1\n",
      "step 16000, training accuracy 1\n",
      "step 17000, training accuracy 0.96\n",
      "step 18000, training accuracy 1\n",
      "step 19000, training accuracy 1\n",
      "test accuracy 0.9787\n"
     ]
    }
   ],
   "source": [
    "train_step = tf.train.AdamOptimizer(1e-4).minimize(cross_entropy)\n",
    "correct_prediction = tf.equal(tf.argmax(y_MLP,1), tf.argmax(y_,1))\n",
    "accuracy = tf.reduce_mean(tf.cast(correct_prediction, tf.float32))\n",
    "sess.run(tf.global_variables_initializer())\n",
    "for i in range(20000):\n",
    "  batch = mnist.train.next_batch(50)\n",
    "  if i%1000 == 0:\n",
    "    train_accuracy = accuracy.eval(feed_dict={\n",
    "        x:batch[0], y_: batch[1]})\n",
    "    print(\"step %d, training accuracy %g\"%(i, train_accuracy))\n",
    "  train_step.run(feed_dict={x: batch[0], y_: batch[1]})\n",
    "\n",
    "print(\"test accuracy %g\"%accuracy.eval(feed_dict={\n",
    "    x: mnist.test.images, y_: mnist.test.labels}))"
   ]
  },
  {
   "cell_type": "markdown",
   "metadata": {},
   "source": [
    "# MLP"
   ]
  },
  {
   "cell_type": "markdown",
   "metadata": {},
   "source": [
    "## a) - b) Re-implement MLP model and train it using adam optimizer"
   ]
  },
  {
   "cell_type": "code",
   "execution_count": 189,
   "metadata": {},
   "outputs": [],
   "source": [
    "from keras.optimizers import Adam\n",
    "from keras.initializers import RandomNormal, Constant"
   ]
  },
  {
   "cell_type": "code",
   "execution_count": 190,
   "metadata": {},
   "outputs": [
    {
     "name": "stdout",
     "output_type": "stream",
     "text": [
      "Train on 55000 samples, validate on 5000 samples\n",
      "Epoch 1/30\n",
      "55000/55000 [==============================] - 5s 87us/step - loss: 0.5562 - acc: 0.8361 - val_loss: 0.2686 - val_acc: 0.9288\n",
      "\n",
      "Epoch 00001: val_acc improved from -inf to 0.92880, saving model to weights/weights_mlp.hdf5\n",
      "Epoch 2/30\n",
      "55000/55000 [==============================] - 5s 83us/step - loss: 0.2412 - acc: 0.9315 - val_loss: 0.1975 - val_acc: 0.9472\n",
      "\n",
      "Epoch 00002: val_acc improved from 0.92880 to 0.94720, saving model to weights/weights_mlp.hdf5\n",
      "Epoch 3/30\n",
      "55000/55000 [==============================] - 5s 85us/step - loss: 0.1862 - acc: 0.9485 - val_loss: 0.1634 - val_acc: 0.9562\n",
      "\n",
      "Epoch 00003: val_acc improved from 0.94720 to 0.95620, saving model to weights/weights_mlp.hdf5\n",
      "Epoch 4/30\n",
      "55000/55000 [==============================] - 4s 79us/step - loss: 0.1523 - acc: 0.9582 - val_loss: 0.1428 - val_acc: 0.9592\n",
      "\n",
      "Epoch 00004: val_acc improved from 0.95620 to 0.95920, saving model to weights/weights_mlp.hdf5\n",
      "Epoch 5/30\n",
      "55000/55000 [==============================] - 4s 79us/step - loss: 0.1284 - acc: 0.9651 - val_loss: 0.1239 - val_acc: 0.9652\n",
      "\n",
      "Epoch 00005: val_acc improved from 0.95920 to 0.96520, saving model to weights/weights_mlp.hdf5\n",
      "Epoch 6/30\n",
      "55000/55000 [==============================] - 5s 84us/step - loss: 0.1101 - acc: 0.9703 - val_loss: 0.1139 - val_acc: 0.9678\n",
      "\n",
      "Epoch 00006: val_acc improved from 0.96520 to 0.96780, saving model to weights/weights_mlp.hdf5\n",
      "Epoch 7/30\n",
      "55000/55000 [==============================] - 5s 88us/step - loss: 0.0960 - acc: 0.9745 - val_loss: 0.1031 - val_acc: 0.9704\n",
      "\n",
      "Epoch 00007: val_acc improved from 0.96780 to 0.97040, saving model to weights/weights_mlp.hdf5\n",
      "Epoch 8/30\n",
      "55000/55000 [==============================] - 5s 86us/step - loss: 0.0841 - acc: 0.9779 - val_loss: 0.0934 - val_acc: 0.9728\n",
      "\n",
      "Epoch 00008: val_acc improved from 0.97040 to 0.97280, saving model to weights/weights_mlp.hdf5\n",
      "Epoch 9/30\n",
      "55000/55000 [==============================] - 5s 87us/step - loss: 0.0744 - acc: 0.9808 - val_loss: 0.0865 - val_acc: 0.9744\n",
      "\n",
      "Epoch 00009: val_acc improved from 0.97280 to 0.97440, saving model to weights/weights_mlp.hdf5\n",
      "Epoch 10/30\n",
      "55000/55000 [==============================] - 5s 89us/step - loss: 0.0660 - acc: 0.9833 - val_loss: 0.0843 - val_acc: 0.9752\n",
      "\n",
      "Epoch 00010: val_acc improved from 0.97440 to 0.97520, saving model to weights/weights_mlp.hdf5\n",
      "Epoch 11/30\n",
      "55000/55000 [==============================] - 5s 93us/step - loss: 0.0588 - acc: 0.9848 - val_loss: 0.0786 - val_acc: 0.9750\n",
      "\n",
      "Epoch 00011: val_acc did not improve\n",
      "Epoch 12/30\n",
      "55000/55000 [==============================] - 5s 93us/step - loss: 0.0522 - acc: 0.9869 - val_loss: 0.0767 - val_acc: 0.9758\n",
      "\n",
      "Epoch 00012: val_acc improved from 0.97520 to 0.97580, saving model to weights/weights_mlp.hdf5\n",
      "Epoch 13/30\n",
      "55000/55000 [==============================] - 5s 92us/step - loss: 0.0468 - acc: 0.9886 - val_loss: 0.0740 - val_acc: 0.9774\n",
      "\n",
      "Epoch 00013: val_acc improved from 0.97580 to 0.97740, saving model to weights/weights_mlp.hdf5\n",
      "Epoch 14/30\n",
      "55000/55000 [==============================] - 5s 86us/step - loss: 0.0418 - acc: 0.9901 - val_loss: 0.0717 - val_acc: 0.9784\n",
      "\n",
      "Epoch 00014: val_acc improved from 0.97740 to 0.97840, saving model to weights/weights_mlp.hdf5\n",
      "Epoch 15/30\n",
      "55000/55000 [==============================] - 4s 80us/step - loss: 0.0379 - acc: 0.9911 - val_loss: 0.0687 - val_acc: 0.9788\n",
      "\n",
      "Epoch 00015: val_acc improved from 0.97840 to 0.97880, saving model to weights/weights_mlp.hdf5\n",
      "Epoch 16/30\n",
      "55000/55000 [==============================] - 4s 80us/step - loss: 0.0337 - acc: 0.9925 - val_loss: 0.0681 - val_acc: 0.9792\n",
      "\n",
      "Epoch 00016: val_acc improved from 0.97880 to 0.97920, saving model to weights/weights_mlp.hdf5\n",
      "Epoch 17/30\n",
      "55000/55000 [==============================] - 4s 79us/step - loss: 0.0300 - acc: 0.9937 - val_loss: 0.0659 - val_acc: 0.9798\n",
      "\n",
      "Epoch 00017: val_acc improved from 0.97920 to 0.97980, saving model to weights/weights_mlp.hdf5\n",
      "Epoch 18/30\n",
      "55000/55000 [==============================] - 4s 78us/step - loss: 0.0272 - acc: 0.9948 - val_loss: 0.0632 - val_acc: 0.9808\n",
      "\n",
      "Epoch 00018: val_acc improved from 0.97980 to 0.98080, saving model to weights/weights_mlp.hdf5\n",
      "Epoch 19/30\n",
      "55000/55000 [==============================] - 4s 77us/step - loss: 0.0243 - acc: 0.9957 - val_loss: 0.0629 - val_acc: 0.9812\n",
      "\n",
      "Epoch 00019: val_acc improved from 0.98080 to 0.98120, saving model to weights/weights_mlp.hdf5\n",
      "Epoch 20/30\n",
      "55000/55000 [==============================] - 4s 77us/step - loss: 0.0217 - acc: 0.9963 - val_loss: 0.0626 - val_acc: 0.9816\n",
      "\n",
      "Epoch 00020: val_acc improved from 0.98120 to 0.98160, saving model to weights/weights_mlp.hdf5\n",
      "Epoch 21/30\n",
      "55000/55000 [==============================] - 4s 77us/step - loss: 0.0194 - acc: 0.9973 - val_loss: 0.0640 - val_acc: 0.9792\n",
      "\n",
      "Epoch 00021: val_acc did not improve\n",
      "Epoch 22/30\n",
      "55000/55000 [==============================] - 4s 77us/step - loss: 0.0176 - acc: 0.9974 - val_loss: 0.0623 - val_acc: 0.9794\n",
      "\n",
      "Epoch 00022: val_acc did not improve\n",
      "Epoch 23/30\n",
      "55000/55000 [==============================] - 4s 76us/step - loss: 0.0156 - acc: 0.9982 - val_loss: 0.0599 - val_acc: 0.9818\n",
      "\n",
      "Epoch 00023: val_acc improved from 0.98160 to 0.98180, saving model to weights/weights_mlp.hdf5\n",
      "Epoch 24/30\n",
      "55000/55000 [==============================] - 4s 76us/step - loss: 0.0140 - acc: 0.9986 - val_loss: 0.0597 - val_acc: 0.9812\n",
      "\n",
      "Epoch 00024: val_acc did not improve\n",
      "Epoch 25/30\n",
      "55000/55000 [==============================] - 4s 80us/step - loss: 0.0124 - acc: 0.9988 - val_loss: 0.0589 - val_acc: 0.9828\n",
      "\n",
      "Epoch 00025: val_acc improved from 0.98180 to 0.98280, saving model to weights/weights_mlp.hdf5\n",
      "Epoch 26/30\n",
      "55000/55000 [==============================] - 5s 91us/step - loss: 0.0111 - acc: 0.9993 - val_loss: 0.0600 - val_acc: 0.9814\n",
      "\n",
      "Epoch 00026: val_acc did not improve\n",
      "Epoch 27/30\n",
      "55000/55000 [==============================] - 5s 100us/step - loss: 0.0099 - acc: 0.9993 - val_loss: 0.0587 - val_acc: 0.9832\n",
      "\n",
      "Epoch 00027: val_acc improved from 0.98280 to 0.98320, saving model to weights/weights_mlp.hdf5\n",
      "Epoch 28/30\n",
      "55000/55000 [==============================] - 6s 101us/step - loss: 0.0088 - acc: 0.9994 - val_loss: 0.0589 - val_acc: 0.9824\n",
      "\n",
      "Epoch 00028: val_acc did not improve\n",
      "Epoch 29/30\n",
      "55000/55000 [==============================] - 6s 108us/step - loss: 0.0077 - acc: 0.9994 - val_loss: 0.0593 - val_acc: 0.9824\n",
      "\n",
      "Epoch 00029: val_acc did not improve\n",
      "Epoch 30/30\n",
      "55000/55000 [==============================] - 6s 103us/step - loss: 0.0070 - acc: 0.9996 - val_loss: 0.0596 - val_acc: 0.9828\n",
      "\n",
      "Epoch 00030: val_acc did not improve\n"
     ]
    },
    {
     "data": {
      "text/plain": [
       "<keras.callbacks.History at 0x14040ae80>"
      ]
     },
     "execution_count": 190,
     "metadata": {},
     "output_type": "execute_result"
    }
   ],
   "source": [
    "# initialize weight as values under normal distribution with mean=0, standard deviation=0.1\n",
    "weight_initializer = RandomNormal(mean=0.0, stddev=0.1, seed=None)\n",
    "# initialize bias as small constants\n",
    "bias_initializer = Constant(value=0.1)\n",
    "\n",
    "# declare a keras sequential model\n",
    "model = Sequential([\n",
    "    # hidden layer\n",
    "    Dense(512, input_dim=784, kernel_initializer=weight_initializer, bias_initializer=bias_initializer),\n",
    "    # relu activation function for outputs of hidden layer\n",
    "    Activation('relu'),\n",
    "    # output layer\n",
    "    Dense(10, input_dim=512, kernel_initializer=weight_initializer, bias_initializer=bias_initializer),\n",
    "    # softmax function to get the 10 probabilities\n",
    "    Activation('softmax')\n",
    "])\n",
    "\n",
    "# define the optimizer as adam optimizer\n",
    "# the model implemented in tensorflow has a learning rate of 1e-4, and other parameters are as default\n",
    "adam = Adam(lr=1e-4, beta_1=0.9, beta_2=0.999, epsilon=None, decay=0.0, amsgrad=False)\n",
    "\n",
    "# configure the training process\n",
    "# use adam optimizer with cross entropy loss\n",
    "model.compile(optimizer=adam,\n",
    "              loss='categorical_crossentropy',\n",
    "              metrics=['accuracy'])\n",
    "\n",
    "# checkpoint to save the best model\n",
    "checkpointer = ModelCheckpoint(filepath='weights/weights_mlp.hdf5', monitor='val_acc', verbose=1, save_best_only=True, mode='max')\n",
    "# another call back function to write a log of the data for tensorboard visualization\n",
    "tensorboard = TensorBoard(log_dir='tensorboard/', histogram_freq=0, write_graph=True, write_images=True)\n",
    "\n",
    "# start training for 30 epochs\n",
    "# batch size is 50\n",
    "model.fit(x=mnist.train.images, \n",
    "          y=mnist.train.labels, \n",
    "          validation_data=(mnist.validation.images, mnist.validation.labels), \n",
    "          callbacks=[checkpointer, tensorboard],\n",
    "          verbose=1,\n",
    "          epochs=30, \n",
    "          batch_size=50)"
   ]
  },
  {
   "cell_type": "markdown",
   "metadata": {},
   "source": [
    "## c) Evaluate performance on mnist test data"
   ]
  },
  {
   "cell_type": "code",
   "execution_count": 191,
   "metadata": {},
   "outputs": [
    {
     "name": "stdout",
     "output_type": "stream",
     "text": [
      "Accuracy on the MNIST test set: 0.9803, validation accuracy: 0.9828\n"
     ]
    }
   ],
   "source": [
    "# accuracy on test data\n",
    "test_accuracy = model.evaluate(mnist.test.images, mnist.test.labels, verbose=0)[1]\n",
    "# accuracy on validation data\n",
    "validation_accuracy = model.evaluate(mnist.validation.images, mnist.validation.labels, verbose=0)[1]\n",
    "\n",
    "print(\"Accuracy on the MNIST test set: {}, validation accuracy: {}\".format(test_accuracy, validation_accuracy))"
   ]
  },
  {
   "cell_type": "markdown",
   "metadata": {},
   "source": [
    "## d) Plot 10 random images with true and predicted labels"
   ]
  },
  {
   "cell_type": "code",
   "execution_count": 192,
   "metadata": {},
   "outputs": [
    {
     "data": {
      "image/png": "[encoded data removed]",
      "text/plain": [
       "<Figure size 432x288 with 1 Axes>"
      ]
     },
     "metadata": {},
     "output_type": "display_data"
    },
    {
     "name": "stdout",
     "output_type": "stream",
     "text": [
      "Correct label: 2\n",
      "Assigned label: 2\n"
     ]
    },
    {
     "data": {
      "image/png": "[encoded data removed]",
      "text/plain": [
       "<Figure size 432x288 with 1 Axes>"
      ]
     },
     "metadata": {},
     "output_type": "display_data"
    },
    {
     "name": "stdout",
     "output_type": "stream",
     "text": [
      "Correct label: 3\n",
      "Assigned label: 3\n"
     ]
    },
    {
     "data": {
      "image/png": "[encoded data removed]",
      "text/plain": [
       "<Figure size 432x288 with 1 Axes>"
      ]
     },
     "metadata": {},
     "output_type": "display_data"
    },
    {
     "name": "stdout",
     "output_type": "stream",
     "text": [
      "Correct label: 0\n",
      "Assigned label: 0\n"
     ]
    },
    {
     "data": {
      "image/png": "[encoded data removed]",
      "text/plain": [
       "<Figure size 432x288 with 1 Axes>"
      ]
     },
     "metadata": {},
     "output_type": "display_data"
    },
    {
     "name": "stdout",
     "output_type": "stream",
     "text": [
      "Correct label: 2\n",
      "Assigned label: 2\n"
     ]
    },
    {
     "data": {
      "image/png": "[encoded data removed]",
      "text/plain": [
       "<Figure size 432x288 with 1 Axes>"
      ]
     },
     "metadata": {},
     "output_type": "display_data"
    },
    {
     "name": "stdout",
     "output_type": "stream",
     "text": [
      "Correct label: 1\n",
      "Assigned label: 1\n"
     ]
    },
    {
     "data": {
      "image/png": "[encoded data removed]",
      "text/plain": [
       "<Figure size 432x288 with 1 Axes>"
      ]
     },
     "metadata": {},
     "output_type": "display_data"
    },
    {
     "name": "stdout",
     "output_type": "stream",
     "text": [
      "Correct label: 5\n",
      "Assigned label: 5\n"
     ]
    },
    {
     "data": {
      "image/png": "[encoded data removed]",
      "text/plain": [
       "<Figure size 432x288 with 1 Axes>"
      ]
     },
     "metadata": {},
     "output_type": "display_data"
    },
    {
     "name": "stdout",
     "output_type": "stream",
     "text": [
      "Correct label: 9\n",
      "Assigned label: 9\n"
     ]
    },
    {
     "data": {
      "image/png": "[encoded data removed]",
      "text/plain": [
       "<Figure size 432x288 with 1 Axes>"
      ]
     },
     "metadata": {},
     "output_type": "display_data"
    },
    {
     "name": "stdout",
     "output_type": "stream",
     "text": [
      "Correct label: 6\n",
      "Assigned label: 6\n"
     ]
    },
    {
     "data": {
      "image/png": "[encoded data removed]",
      "text/plain": [
       "<Figure size 432x288 with 1 Axes>"
      ]
     },
     "metadata": {},
     "output_type": "display_data"
    },
    {
     "name": "stdout",
     "output_type": "stream",
     "text": [
      "Correct label: 5\n",
      "Assigned label: 5\n"
     ]
    },
    {
     "data": {
      "image/png": "[encoded data removed]",
      "text/plain": [
       "<Figure size 432x288 with 1 Axes>"
      ]
     },
     "metadata": {},
     "output_type": "display_data"
    },
    {
     "name": "stdout",
     "output_type": "stream",
     "text": [
      "Correct label: 3\n",
      "Assigned label: 3\n"
     ]
    }
   ],
   "source": [
    "for i in range(10):\n",
    "    batch = mnist.test.next_batch(1)\n",
    "    image = np.asarray(batch[0]).reshape((28, 28))\n",
    "    label = batch[1]\n",
    "    \n",
    "    plt.imshow(image, cmap='gray')\n",
    "    plt.axis(\"off\")\n",
    "    plt.show()\n",
    "    print(\"Correct label: {}\".format(np.argmax(label)))\n",
    "    print(\"Assigned label: {}\".format(np.argmax(model.predict(image.reshape(1, 784)))))"
   ]
  },
  {
   "cell_type": "markdown",
   "metadata": {},
   "source": [
    "## e) See the submitted screen shot - mlp.png\n",
    "![mlp](screenshots/mlp.png)"
   ]
  },
  {
   "cell_type": "markdown",
   "metadata": {},
   "source": [
    "## f) - g) Load the best model saved by the program"
   ]
  },
  {
   "cell_type": "code",
   "execution_count": 193,
   "metadata": {},
   "outputs": [
    {
     "name": "stdout",
     "output_type": "stream",
     "text": [
      "Model with best validation accuracy\n",
      "Accuracy on the MNIST test set: 0.9797, validation accuracy: 0.9832\n"
     ]
    }
   ],
   "source": [
    "# load weights of best model\n",
    "model.load_weights(filepath='weights/weights_mlp.hdf5')\n",
    "# accuracy of best model on test data\n",
    "test_accuracy_best = model.evaluate(mnist.test.images, mnist.test.labels, verbose=0)[1]\n",
    "# accuracy of best model on validation data\n",
    "validation_accuracy_best = model.evaluate(mnist.validation.images, mnist.validation.labels, verbose=0)[1]\n",
    "print(\"Model with best validation accuracy\\nAccuracy on the MNIST test set: {}, validation accuracy: {}\".format(test_accuracy_best, validation_accuracy_best))"
   ]
  },
  {
   "cell_type": "markdown",
   "metadata": {},
   "source": [
    "## A Simple Convolutional Neural Network: LeNet"
   ]
  },
  {
   "cell_type": "markdown",
   "metadata": {},
   "source": [
    "Here we make our first CNN. It's quite simple network, but it's surprisingly good at this handwritten digit recognition task. This a variant on Yann LeCun's CNN network that really helped to move deep learning forward."
   ]
  },
  {
   "cell_type": "markdown",
   "metadata": {},
   "source": [
    "We define both weight and bias variables and how they are to be initialized. Note that the weights are are distributed according to a standard normal distribution (mean = 0, std = 0.1). This random initialization helps avoid hidden units get stuck together, as units that start with the same value will be updated identically in the non-convolutional layers. In contrast, the bias variables are set to a small positive number--this is help prevent hidden units from starting out and getting stuck in the zero part of the ReLu. "
   ]
  },
  {
   "cell_type": "code",
   "execution_count": 63,
   "metadata": {},
   "outputs": [],
   "source": [
    "def weight_variable(shape):\n",
    "  initial = tf.truncated_normal(shape, stddev=0.1)\n",
    "  return tf.Variable(initial)\n",
    "\n",
    "def bias_variable(shape):\n",
    "  initial = tf.constant(0.1, shape=shape)\n",
    "  return tf.Variable(initial)"
   ]
  },
  {
   "cell_type": "markdown",
   "metadata": {},
   "source": [
    "Next we define how the convolution is to be computed and the extent and type of pooling. The convolution will use a 5x5 kernel and will pad the image with zeros around the edges and use a stride of 1 pixel so that the resulting image (after convolution) has the same size as the original input image. The network will learn the weights for a stack of 32 separate kernels along with 32 bias variables. Finally, after the ReLu is performed the result will be under go 2x2 max pooling, thus halfing both dimensions of the image. The choices for the stride, padding, and pooling are not parameters that the network needs to estimate. Rather these are termed \"hyperparamters\" that are usually set by the network designer."
   ]
  },
  {
   "cell_type": "code",
   "execution_count": 64,
   "metadata": {},
   "outputs": [],
   "source": [
    "def conv2d(x, W):\n",
    "  return tf.nn.conv2d(x, W, strides=[1, 1, 1, 1], padding='SAME')\n",
    "\n",
    "def max_pool_2x2(x):\n",
    "  return tf.nn.max_pool(x, ksize=[1, 2, 2, 1],\n",
    "                        strides=[1, 2, 2, 1], padding='SAME')"
   ]
  },
  {
   "cell_type": "markdown",
   "metadata": {},
   "source": [
    "This creates the weight and bias variables for the first convolutional layer as described above. Note the output has depth 32, so there will be 32 feature images after this layer."
   ]
  },
  {
   "cell_type": "code",
   "execution_count": 65,
   "metadata": {},
   "outputs": [],
   "source": [
    "W_conv1 = weight_variable([5, 5, 1, 32])\n",
    "b_conv1 = bias_variable([32])"
   ]
  },
  {
   "cell_type": "markdown",
   "metadata": {},
   "source": [
    "Unlike for our softmax regressor above, here we need keep the images as images and not collapse these into vectors; this allows us to perform the 2D convolution."
   ]
  },
  {
   "cell_type": "code",
   "execution_count": 66,
   "metadata": {},
   "outputs": [],
   "source": [
    "x_image = tf.reshape(x, [-1,28,28,1])"
   ]
  },
  {
   "cell_type": "markdown",
   "metadata": {},
   "source": [
    "Finally, we define are first layer of our CNN!"
   ]
  },
  {
   "cell_type": "code",
   "execution_count": 67,
   "metadata": {},
   "outputs": [],
   "source": [
    "h_conv1 = tf.nn.relu(conv2d(x_image, W_conv1) + b_conv1)\n",
    "h_pool1 = max_pool_2x2(h_conv1)"
   ]
  },
  {
   "cell_type": "markdown",
   "metadata": {},
   "source": [
    "And wasting no time, we define are second layer. The second layer will have to process 32 feature images coming out of the first layer. Note that the images input to this layer have $\\frac{1}{4}$ the number of pixels as the original input images due to the 2x2 pooling in the previous layer. Note that convolution layer NOT fully connected as our previous hidden layers have been. A unit in the output layer has a limited \"receptive field.\" Its connections to the input layer are spatially limited by the kernel (or filter) size. Also, because of weight sharing in convolutional layers, the number of parameters for a convolutional is the size of the kernel x the depth of the input layer x depth of the output layer + depth of the output layer. So for the second layer of our ConvNet, we have 5 x 5 x 32 x 64 + 64 = 51,264 parameters. "
   ]
  },
  {
   "cell_type": "code",
   "execution_count": 68,
   "metadata": {},
   "outputs": [],
   "source": [
    "W_conv2 = weight_variable([5, 5, 32, 64])\n",
    "b_conv2 = bias_variable([64])\n",
    "\n",
    "h_conv2 = tf.nn.relu(conv2d(h_pool1, W_conv2) + b_conv2)\n",
    "h_pool2 = max_pool_2x2(h_conv2)"
   ]
  },
  {
   "cell_type": "markdown",
   "metadata": {},
   "source": [
    "After the pooling stage of our second convolutional layer, we have 64 7x7 \"feature\" images. In one penultimate fully connected hidden layer, we are going to map these feature imges to a 1024 dimensional feature space. Note we need to flatten these feature images to do this."
   ]
  },
  {
   "cell_type": "code",
   "execution_count": 69,
   "metadata": {},
   "outputs": [],
   "source": [
    "W_fc1 = weight_variable([7 * 7 * 64, 1024])\n",
    "b_fc1 = bias_variable([1024])\n",
    "\n",
    "h_pool2_flat = tf.reshape(h_pool2, [-1, 7*7*64])\n",
    "h_fc1 = tf.nn.relu(tf.matmul(h_pool2_flat, W_fc1) + b_fc1)"
   ]
  },
  {
   "cell_type": "markdown",
   "metadata": {},
   "source": [
    "Dropout is added here, although it is not really needed for such small network."
   ]
  },
  {
   "cell_type": "code",
   "execution_count": 70,
   "metadata": {},
   "outputs": [],
   "source": [
    "keep_prob = tf.placeholder(tf.float32)\n",
    "h_fc1_drop = tf.nn.dropout(h_fc1, keep_prob)"
   ]
  },
  {
   "cell_type": "markdown",
   "metadata": {},
   "source": [
    "We have a final linear output layer mapping features to scores topped off with a softmax cross entropy loss function, as explained earlier."
   ]
  },
  {
   "cell_type": "code",
   "execution_count": 71,
   "metadata": {},
   "outputs": [],
   "source": [
    "W_fc2 = weight_variable([1024, 10])\n",
    "b_fc2 = bias_variable([10])\n",
    "\n",
    "y_conv = tf.matmul(h_fc1_drop, W_fc2) + b_fc2"
   ]
  },
  {
   "cell_type": "code",
   "execution_count": 72,
   "metadata": {},
   "outputs": [],
   "source": [
    "cross_entropy = tf.reduce_mean(\n",
    "    tf.nn.softmax_cross_entropy_with_logits(labels=y_, logits=y_conv))"
   ]
  },
  {
   "cell_type": "markdown",
   "metadata": {},
   "source": [
    "For training we choose an Adam learning rate and update rule. We then run this for 20,000 iterations and evaluate our accuracy after training."
   ]
  },
  {
   "cell_type": "code",
   "execution_count": 73,
   "metadata": {},
   "outputs": [
    {
     "name": "stdout",
     "output_type": "stream",
     "text": [
      "step 0, training accuracy 0.12\n",
      "step 1000, training accuracy 1\n",
      "step 2000, training accuracy 0.96\n",
      "step 3000, training accuracy 0.96\n",
      "step 4000, training accuracy 1\n",
      "step 5000, training accuracy 0.98\n",
      "step 6000, training accuracy 0.96\n",
      "step 7000, training accuracy 1\n",
      "step 8000, training accuracy 1\n",
      "step 9000, training accuracy 1\n",
      "step 10000, training accuracy 1\n",
      "step 11000, training accuracy 1\n",
      "step 12000, training accuracy 1\n",
      "step 13000, training accuracy 1\n",
      "step 14000, training accuracy 1\n",
      "step 15000, training accuracy 1\n",
      "step 16000, training accuracy 1\n",
      "step 17000, training accuracy 1\n",
      "step 18000, training accuracy 1\n",
      "step 19000, training accuracy 1\n",
      "test accuracy 0.9922\n"
     ]
    }
   ],
   "source": [
    "train_step = tf.train.AdamOptimizer(1e-4).minimize(cross_entropy)\n",
    "correct_prediction = tf.equal(tf.argmax(y_conv,1), tf.argmax(y_,1))\n",
    "accuracy = tf.reduce_mean(tf.cast(correct_prediction, tf.float32))\n",
    "sess.run(tf.global_variables_initializer())\n",
    "for i in range(20000):\n",
    "  batch = mnist.train.next_batch(50)\n",
    "  if i%1000 == 0:\n",
    "    train_accuracy = accuracy.eval(feed_dict={\n",
    "        x:batch[0], y_: batch[1], keep_prob: 1.0})\n",
    "    print(\"step %d, training accuracy %g\"%(i, train_accuracy))\n",
    "  train_step.run(feed_dict={x: batch[0], y_: batch[1], keep_prob: 0.5})\n",
    "\n",
    "print(\"test accuracy %g\"%accuracy.eval(feed_dict={\n",
    "    x: mnist.test.images, y_: mnist.test.labels, keep_prob: 1.0}))"
   ]
  },
  {
   "cell_type": "markdown",
   "metadata": {},
   "source": [
    "We add an output to compuational graph that computes the label probabilities."
   ]
  },
  {
   "cell_type": "code",
   "execution_count": 74,
   "metadata": {},
   "outputs": [],
   "source": [
    "y_probs = tf.nn.softmax(logits=y_conv, name=None)"
   ]
  },
  {
   "cell_type": "code",
   "execution_count": 75,
   "metadata": {},
   "outputs": [
    {
     "name": "stdout",
     "output_type": "stream",
     "text": [
      "test accuracy 0.9922\n"
     ]
    }
   ],
   "source": [
    "print(\"test accuracy %g\"%accuracy.eval(feed_dict={\n",
    "    x: mnist.test.images, y_: mnist.test.labels, keep_prob: 1.0}))"
   ]
  },
  {
   "cell_type": "markdown",
   "metadata": {},
   "source": [
    "Next we step through some test examples and see how well the network is doing."
   ]
  },
  {
   "cell_type": "code",
   "execution_count": 76,
   "metadata": {},
   "outputs": [
    {
     "data": {
      "image/png": "[encoded data removed]",
      "text/plain": [
       "<Figure size 432x288 with 1 Axes>"
      ]
     },
     "metadata": {},
     "output_type": "display_data"
    },
    {
     "name": "stdout",
     "output_type": "stream",
     "text": [
      "Label =  [[0. 0. 0. 0. 0. 0. 0. 0. 1. 0.]]\n",
      "Class probabilities =  [[5.5720966e-11 2.1611019e-15 2.7565496e-13 1.0915743e-12 1.5609882e-09\n",
      "  1.1711752e-05 4.4562470e-10 6.7399352e-15 9.9998832e-01 8.4068614e-13]]\n"
     ]
    },
    {
     "data": {
      "image/png": "[encoded data removed]",
      "text/plain": [
       "<Figure size 432x288 with 1 Axes>"
      ]
     },
     "metadata": {},
     "output_type": "display_data"
    },
    {
     "name": "stdout",
     "output_type": "stream",
     "text": [
      "Label =  [[0. 0. 0. 0. 0. 0. 1. 0. 0. 0.]]\n",
      "Class probabilities =  [[1.2043487e-09 1.5353710e-11 4.5305044e-12 1.6923188e-12 1.5912740e-07\n",
      "  4.1741839e-11 9.9999988e-01 2.8309913e-14 5.4157507e-12 4.8473680e-11]]\n"
     ]
    },
    {
     "data": {
      "image/png": "[encoded data removed]",
      "text/plain": [
       "<Figure size 432x288 with 1 Axes>"
      ]
     },
     "metadata": {},
     "output_type": "display_data"
    },
    {
     "name": "stdout",
     "output_type": "stream",
     "text": [
      "Label =  [[0. 0. 0. 0. 0. 0. 0. 1. 0. 0.]]\n",
      "Class probabilities =  [[5.4806799e-09 4.8692396e-08 1.2130279e-06 6.6668832e-08 3.8204265e-10\n",
      "  6.9664642e-11 1.5919462e-11 9.9999321e-01 9.7107633e-10 5.5070896e-06]]\n"
     ]
    },
    {
     "data": {
      "image/png": "[encoded data removed]",
      "text/plain": [
       "<Figure size 432x288 with 1 Axes>"
      ]
     },
     "metadata": {},
     "output_type": "display_data"
    },
    {
     "name": "stdout",
     "output_type": "stream",
     "text": [
      "Label =  [[0. 0. 0. 0. 0. 0. 0. 0. 0. 1.]]\n",
      "Class probabilities =  [[8.2692798e-14 2.1852979e-14 2.8715599e-15 1.4701707e-10 4.1126889e-09\n",
      "  2.1203433e-10 6.4222917e-16 6.7994235e-11 7.9277740e-10 1.0000000e+00]]\n"
     ]
    },
    {
     "data": {
      "image/png": "[encoded data removed]",
      "text/plain": [
       "<Figure size 432x288 with 1 Axes>"
      ]
     },
     "metadata": {},
     "output_type": "display_data"
    },
    {
     "name": "stdout",
     "output_type": "stream",
     "text": [
      "Label =  [[0. 0. 1. 0. 0. 0. 0. 0. 0. 0.]]\n",
      "Class probabilities =  [[1.8989047e-15 8.6311562e-11 1.0000000e+00 1.1673494e-11 4.5530964e-16\n",
      "  5.2712527e-18 2.1630724e-16 1.9241346e-11 1.3348978e-11 1.1909466e-13]]\n"
     ]
    }
   ],
   "source": [
    "for i in range(5):\n",
    "    batch = mnist.test.next_batch(1)\n",
    "    image = np.asarray(batch[0]).reshape((28, 28))\n",
    "    label = batch[1]\n",
    "    \n",
    "    plt.imshow(image, cmap='gray')\n",
    "    plt.axis(\"off\")\n",
    "    plt.show()\n",
    "    print(\"Label = \", label)\n",
    "    print(\"Class probabilities = \", y_probs.eval(feed_dict={\n",
    "        x: batch[0], y_: batch[1], keep_prob: 1.0}))"
   ]
  },
  {
   "cell_type": "markdown",
   "metadata": {},
   "source": [
    "# CNN"
   ]
  },
  {
   "cell_type": "markdown",
   "metadata": {},
   "source": [
    "## a) -b) Re-implement the cnn and train cnn using keras"
   ]
  },
  {
   "cell_type": "code",
   "execution_count": 176,
   "metadata": {},
   "outputs": [],
   "source": [
    "from keras.layers import Conv2D, MaxPooling2D, Flatten, Dropout"
   ]
  },
  {
   "cell_type": "code",
   "execution_count": 177,
   "metadata": {},
   "outputs": [],
   "source": [
    "# initialize weight as values under normal distribution with mean=0, standard deviation=0.1\n",
    "weight_initializer = RandomNormal(mean=0.0, stddev=0.1, seed=None)\n",
    "# initialize bias as small constants 0.1\n",
    "bias_initializer = Constant(value=0.1)\n",
    "\n",
    "# declare a sequential model\n",
    "model = Sequential()\n",
    "\n",
    "# the first hidden layer, 32 kernels\n",
    "model.add(Conv2D(filters=32, kernel_size=(5, 5),\n",
    "                 activation='relu',\n",
    "                 padding='same',\n",
    "                 strides=(1, 1),\n",
    "                 kernel_initializer=weight_initializer,\n",
    "                 bias_initializer=bias_initializer,\n",
    "                 input_shape=(28, 28, 1)))\n",
    "\n",
    "# max pooling layer, pool size 2*2, stride 2\n",
    "model.add(MaxPooling2D(pool_size=(2, 2)))\n",
    "\n",
    "# the second hidden layer, 64 kernels\n",
    "model.add(Conv2D(filters=64, kernel_size=(5, 5),\n",
    "                activation='relu', \n",
    "                padding='same',\n",
    "                kernel_initializer=weight_initializer,\n",
    "                bias_initializer=bias_initializer,\n",
    "                strides=(1, 1)))\n",
    "\n",
    "# another max pooling layer, pool size 2*2, stride 2\n",
    "model.add(MaxPooling2D(pool_size=(2, 2)))\n",
    "\n",
    "# flat the output from last pooling layer for the last dense hidden layer\n",
    "model.add(Flatten())\n",
    "\n",
    "# a fully connected hidden layer\n",
    "model.add(Dense(units=1024, \n",
    "               activation='relu',\n",
    "               kernel_initializer=weight_initializer,\n",
    "               bias_initializer=bias_initializer))\n",
    "\n",
    "# add dropout layer\n",
    "model.add(Dropout(0.5))\n",
    "\n",
    "# another fully connected layer  and then use softmax to compute the 10 class probabilities\n",
    "model.add(Dense(units=10,\n",
    "               activation='softmax',\n",
    "               kernel_initializer=weight_initializer,\n",
    "               bias_initializer=bias_initializer))"
   ]
  },
  {
   "cell_type": "code",
   "execution_count": 178,
   "metadata": {},
   "outputs": [
    {
     "name": "stdout",
     "output_type": "stream",
     "text": [
      "_________________________________________________________________\n",
      "Layer (type)                 Output Shape              Param #   \n",
      "=================================================================\n",
      "conv2d_27 (Conv2D)           (None, 28, 28, 32)        832       \n",
      "_________________________________________________________________\n",
      "max_pooling2d_19 (MaxPooling (None, 14, 14, 32)        0         \n",
      "_________________________________________________________________\n",
      "conv2d_28 (Conv2D)           (None, 14, 14, 64)        51264     \n",
      "_________________________________________________________________\n",
      "max_pooling2d_20 (MaxPooling (None, 7, 7, 64)          0         \n",
      "_________________________________________________________________\n",
      "flatten_9 (Flatten)          (None, 3136)              0         \n",
      "_________________________________________________________________\n",
      "dense_31 (Dense)             (None, 1024)              3212288   \n",
      "_________________________________________________________________\n",
      "dropout_2 (Dropout)          (None, 1024)              0         \n",
      "_________________________________________________________________\n",
      "dense_32 (Dense)             (None, 10)                10250     \n",
      "=================================================================\n",
      "Total params: 3,274,634\n",
      "Trainable params: 3,274,634\n",
      "Non-trainable params: 0\n",
      "_________________________________________________________________\n"
     ]
    }
   ],
   "source": [
    "# summarise the model\n",
    "model.summary()"
   ]
  },
  {
   "cell_type": "code",
   "execution_count": 179,
   "metadata": {},
   "outputs": [
    {
     "name": "stdout",
     "output_type": "stream",
     "text": [
      "Train on 55000 samples, validate on 5000 samples\n",
      "Epoch 1/15\n",
      "55000/55000 [==============================] - 97s 2ms/step - loss: 0.8692 - acc: 0.8286 - val_loss: 0.1305 - val_acc: 0.9612\n",
      "\n",
      "Epoch 00001: val_acc improved from -inf to 0.96120, saving model to weights/weights_cnn.hdf5\n",
      "Epoch 2/15\n",
      "55000/55000 [==============================] - 107s 2ms/step - loss: 0.1670 - acc: 0.9475 - val_loss: 0.0805 - val_acc: 0.9774\n",
      "\n",
      "Epoch 00002: val_acc improved from 0.96120 to 0.97740, saving model to weights/weights_cnn.hdf5\n",
      "Epoch 3/15\n",
      "55000/55000 [==============================] - 112s 2ms/step - loss: 0.1102 - acc: 0.9659 - val_loss: 0.0582 - val_acc: 0.9814\n",
      "\n",
      "Epoch 00003: val_acc improved from 0.97740 to 0.98140, saving model to weights/weights_cnn.hdf5\n",
      "Epoch 4/15\n",
      "55000/55000 [==============================] - 110s 2ms/step - loss: 0.0818 - acc: 0.9738 - val_loss: 0.0553 - val_acc: 0.9832\n",
      "\n",
      "Epoch 00004: val_acc improved from 0.98140 to 0.98320, saving model to weights/weights_cnn.hdf5\n",
      "Epoch 5/15\n",
      "55000/55000 [==============================] - 110s 2ms/step - loss: 0.0663 - acc: 0.9788 - val_loss: 0.0452 - val_acc: 0.9866\n",
      "\n",
      "Epoch 00005: val_acc improved from 0.98320 to 0.98660, saving model to weights/weights_cnn.hdf5\n",
      "Epoch 6/15\n",
      "55000/55000 [==============================] - 112s 2ms/step - loss: 0.0532 - acc: 0.9830 - val_loss: 0.0433 - val_acc: 0.9868\n",
      "\n",
      "Epoch 00006: val_acc improved from 0.98660 to 0.98680, saving model to weights/weights_cnn.hdf5\n",
      "Epoch 7/15\n",
      "55000/55000 [==============================] - 112s 2ms/step - loss: 0.0456 - acc: 0.9849 - val_loss: 0.0402 - val_acc: 0.9876\n",
      "\n",
      "Epoch 00007: val_acc improved from 0.98680 to 0.98760, saving model to weights/weights_cnn.hdf5\n",
      "Epoch 8/15\n",
      "55000/55000 [==============================] - 112s 2ms/step - loss: 0.0372 - acc: 0.9881 - val_loss: 0.0406 - val_acc: 0.9880\n",
      "\n",
      "Epoch 00008: val_acc improved from 0.98760 to 0.98800, saving model to weights/weights_cnn.hdf5\n",
      "Epoch 9/15\n",
      "55000/55000 [==============================] - 114s 2ms/step - loss: 0.0325 - acc: 0.9899 - val_loss: 0.0401 - val_acc: 0.9888\n",
      "\n",
      "Epoch 00009: val_acc improved from 0.98800 to 0.98880, saving model to weights/weights_cnn.hdf5\n",
      "Epoch 10/15\n",
      "55000/55000 [==============================] - 112s 2ms/step - loss: 0.0275 - acc: 0.9910 - val_loss: 0.0387 - val_acc: 0.9890\n",
      "\n",
      "Epoch 00010: val_acc improved from 0.98880 to 0.98900, saving model to weights/weights_cnn.hdf5\n",
      "Epoch 11/15\n",
      "55000/55000 [==============================] - 111s 2ms/step - loss: 0.0234 - acc: 0.9923 - val_loss: 0.0363 - val_acc: 0.9908\n",
      "\n",
      "Epoch 00011: val_acc improved from 0.98900 to 0.99080, saving model to weights/weights_cnn.hdf5\n",
      "Epoch 12/15\n",
      "55000/55000 [==============================] - 113s 2ms/step - loss: 0.0192 - acc: 0.9937 - val_loss: 0.0339 - val_acc: 0.9908\n",
      "\n",
      "Epoch 00012: val_acc improved from 0.99080 to 0.99080, saving model to weights/weights_cnn.hdf5\n",
      "Epoch 13/15\n",
      "55000/55000 [==============================] - 114s 2ms/step - loss: 0.0191 - acc: 0.9938 - val_loss: 0.0347 - val_acc: 0.9904\n",
      "\n",
      "Epoch 00013: val_acc did not improve\n",
      "Epoch 14/15\n",
      "55000/55000 [==============================] - 108s 2ms/step - loss: 0.0154 - acc: 0.9949 - val_loss: 0.0359 - val_acc: 0.9906\n",
      "\n",
      "Epoch 00014: val_acc did not improve\n",
      "Epoch 15/15\n",
      "55000/55000 [==============================] - 97s 2ms/step - loss: 0.0147 - acc: 0.9953 - val_loss: 0.0348 - val_acc: 0.9910\n",
      "\n",
      "Epoch 00015: val_acc improved from 0.99080 to 0.99100, saving model to weights/weights_cnn.hdf5\n"
     ]
    },
    {
     "data": {
      "text/plain": [
       "<keras.callbacks.History at 0x13acd5dd8>"
      ]
     },
     "execution_count": 179,
     "metadata": {},
     "output_type": "execute_result"
    }
   ],
   "source": [
    "# define the adam optimizer\n",
    "# the model implemented in tensorflow has a learning rate of 1e-4, and other parameters are as default\n",
    "adam = Adam(lr=1e-4, beta_1=0.9, beta_2=0.999, epsilon=None, decay=0.0, amsgrad=False)\n",
    "\n",
    "# configure the training process, using adam optimizer with cross entropy loss\n",
    "model.compile(optimizer=adam,\n",
    "              loss='categorical_crossentropy',\n",
    "              metrics=['accuracy'])\n",
    "\n",
    "# checkpoint to save the model with best validation accuracy\n",
    "checkpointer = ModelCheckpoint(filepath='weights/weights_cnn.hdf5', monitor='val_acc', verbose=1, save_best_only=True, mode='max')\n",
    "# another callback function to record a log of the process for tensorflow visualization\n",
    "tensorboard = TensorBoard(log_dir='tensorboard/', histogram_freq=0, write_graph=False, write_images=True)\n",
    "\n",
    "# start training for 15 epochs, needs to reshape training data to fit the network input shape\n",
    "# as implemented in tensorflow: batch size is 50\n",
    "model.fit(x=(mnist.train.images.reshape(55000, 28, 28, 1)), \n",
    "          y=mnist.train.labels, \n",
    "          validation_data=(mnist.validation.images.reshape(5000, 28, 28, 1), mnist.validation.labels), \n",
    "          callbacks=[checkpointer, tensorboard],\n",
    "          verbose=1,\n",
    "          epochs=15, \n",
    "          batch_size=50)"
   ]
  },
  {
   "cell_type": "markdown",
   "metadata": {},
   "source": [
    "## c) Evaluate the model on MNIST test data"
   ]
  },
  {
   "cell_type": "code",
   "execution_count": 180,
   "metadata": {},
   "outputs": [
    {
     "name": "stdout",
     "output_type": "stream",
     "text": [
      "Accuracy on the MNIST test set: 0.9915, validation accuracy: 0.991\n"
     ]
    }
   ],
   "source": [
    "# keras automatically turns off dropout under test mode\n",
    "# accuracy on test data\n",
    "test_accuracy = model.evaluate(mnist.test.images.reshape(10000, 28, 28, 1), mnist.test.labels, verbose=0)[1]\n",
    "# accuracy on validation data\n",
    "validation_accuracy = model.evaluate(mnist.validation.images.reshape(5000, 28, 28, 1), mnist.validation.labels, verbose=0)[1]\n",
    "print(\"Accuracy on the MNIST test set: {}, validation accuracy: {}\".format(test_accuracy, validation_accuracy))"
   ]
  },
  {
   "cell_type": "markdown",
   "metadata": {},
   "source": [
    "## d) Plot 10 random images with true and predicted labels"
   ]
  },
  {
   "cell_type": "code",
   "execution_count": 181,
   "metadata": {},
   "outputs": [
    {
     "data": {
      "image/png": "[encoded data removed]",
      "text/plain": [
       "<Figure size 432x288 with 1 Axes>"
      ]
     },
     "metadata": {},
     "output_type": "display_data"
    },
    {
     "name": "stdout",
     "output_type": "stream",
     "text": [
      "Correct label: 0\n",
      "Assigned label: 0\n"
     ]
    },
    {
     "data": {
      "image/png": "[encoded data removed]",
      "text/plain": [
       "<Figure size 432x288 with 1 Axes>"
      ]
     },
     "metadata": {},
     "output_type": "display_data"
    },
    {
     "name": "stdout",
     "output_type": "stream",
     "text": [
      "Correct label: 1\n",
      "Assigned label: 1\n"
     ]
    },
    {
     "data": {
      "image/png": "[encoded data removed]",
      "text/plain": [
       "<Figure size 432x288 with 1 Axes>"
      ]
     },
     "metadata": {},
     "output_type": "display_data"
    },
    {
     "name": "stdout",
     "output_type": "stream",
     "text": [
      "Correct label: 4\n",
      "Assigned label: 4\n"
     ]
    },
    {
     "data": {
      "image/png": "[encoded data removed]",
      "text/plain": [
       "<Figure size 432x288 with 1 Axes>"
      ]
     },
     "metadata": {},
     "output_type": "display_data"
    },
    {
     "name": "stdout",
     "output_type": "stream",
     "text": [
      "Correct label: 5\n",
      "Assigned label: 5\n"
     ]
    },
    {
     "data": {
      "image/png": "[encoded data removed]",
      "text/plain": [
       "<Figure size 432x288 with 1 Axes>"
      ]
     },
     "metadata": {},
     "output_type": "display_data"
    },
    {
     "name": "stdout",
     "output_type": "stream",
     "text": [
      "Correct label: 8\n",
      "Assigned label: 8\n"
     ]
    },
    {
     "data": {
      "image/png": "[encoded data removed]",
      "text/plain": [
       "<Figure size 432x288 with 1 Axes>"
      ]
     },
     "metadata": {},
     "output_type": "display_data"
    },
    {
     "name": "stdout",
     "output_type": "stream",
     "text": [
      "Correct label: 8\n",
      "Assigned label: 8\n"
     ]
    },
    {
     "data": {
      "image/png": "[encoded data removed]",
      "text/plain": [
       "<Figure size 432x288 with 1 Axes>"
      ]
     },
     "metadata": {},
     "output_type": "display_data"
    },
    {
     "name": "stdout",
     "output_type": "stream",
     "text": [
      "Correct label: 7\n",
      "Assigned label: 7\n"
     ]
    },
    {
     "data": {
      "image/png": "[encoded data removed]",
      "text/plain": [
       "<Figure size 432x288 with 1 Axes>"
      ]
     },
     "metadata": {},
     "output_type": "display_data"
    },
    {
     "name": "stdout",
     "output_type": "stream",
     "text": [
      "Correct label: 8\n",
      "Assigned label: 8\n"
     ]
    },
    {
     "data": {
      "image/png": "[encoded data removed]",
      "text/plain": [
       "<Figure size 432x288 with 1 Axes>"
      ]
     },
     "metadata": {},
     "output_type": "display_data"
    },
    {
     "name": "stdout",
     "output_type": "stream",
     "text": [
      "Correct label: 6\n",
      "Assigned label: 6\n"
     ]
    },
    {
     "data": {
      "image/png": "[encoded data removed]",
      "text/plain": [
       "<Figure size 432x288 with 1 Axes>"
      ]
     },
     "metadata": {},
     "output_type": "display_data"
    },
    {
     "name": "stdout",
     "output_type": "stream",
     "text": [
      "Correct label: 0\n",
      "Assigned label: 0\n"
     ]
    }
   ],
   "source": [
    "for i in range(10):\n",
    "    batch = mnist.test.next_batch(1)\n",
    "    image = np.asarray(batch[0]).reshape((28, 28))\n",
    "    label = batch[1]\n",
    "    \n",
    "    plt.imshow(image, cmap='gray')\n",
    "    plt.axis(\"off\")\n",
    "    plt.show()\n",
    "    print(\"Correct label: {}\".format(np.argmax(label)))\n",
    "    print(\"Assigned label: {}\".format(np.argmax(model.predict(image.reshape(1, 28, 28, 1)))))"
   ]
  },
  {
   "cell_type": "markdown",
   "metadata": {},
   "source": [
    "## e) See the submitted screen shot - cnn.png\n",
    "![cnn](screenshots/cnn.png)\n"
   ]
  },
  {
   "cell_type": "markdown",
   "metadata": {},
   "source": [
    "## f) - g) Load the best model saved by the program"
   ]
  },
  {
   "cell_type": "code",
   "execution_count": 183,
   "metadata": {},
   "outputs": [
    {
     "name": "stdout",
     "output_type": "stream",
     "text": [
      "Model with best validation accuracy\n",
      "Accuracy on the MNIST test set: 0.9915, validation accuracy: 0.991\n"
     ]
    }
   ],
   "source": [
    "# load best model.\n",
    "model.load_weights(filepath='weights/weights_cnn.hdf5')\n",
    "# accuracy of best model on test data\n",
    "test_accuracy_best = model.evaluate(mnist.test.images.reshape(10000, 28, 28, 1), mnist.test.labels, verbose=0)[1]\n",
    "# accuracy of best model on validation data\n",
    "validation_accuracy_best = model.evaluate(mnist.validation.images.reshape(5000, 28, 28, 1), mnist.validation.labels, verbose=0)[1]\n",
    "print(\"Model with best validation accuracy\\nAccuracy on the MNIST test set: {}, validation accuracy: {}\".format(test_accuracy_best, validation_accuracy_best))"
   ]
  }
 ],
 "metadata": {
  "kernelspec": {
   "display_name": "Python 3",
   "language": "python",
   "name": "python3"
  },
  "language_info": {
   "codemirror_mode": {
    "name": "ipython",
    "version": 3
   },
   "file_extension": ".py",
   "mimetype": "text/x-python",
   "name": "python",
   "nbconvert_exporter": "python",
   "pygments_lexer": "ipython3",
   "version": "3.6.4"
  }
 },
 "nbformat": 4,
 "nbformat_minor": 2
}
