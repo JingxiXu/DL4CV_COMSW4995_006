{
 "cells": [
  {
   "cell_type": "markdown",
   "metadata": {},
   "source": [
    "# Deep Learning for Computer Vision:  Assignment 4"
   ]
  },
  {
   "cell_type": "markdown",
   "metadata": {},
   "source": [
    "## Computer Science: COMS W 4995 006"
   ]
  },
  {
   "cell_type": "markdown",
   "metadata": {},
   "source": [
    "### Due: March 20, 2018\n",
    "\n",
    "### Problem"
   ]
  },
  {
   "cell_type": "markdown",
   "metadata": {},
   "source": [
    "In this notebook we provide three networks for classifying handwritten digits from the MNIST dataset. The networks are implemented and tested using the Tensorflow framework. The third and final network is a convolutional neural network (CNN aka ConvNet) which achieves 99.25% accuracy on this dataset. \n",
    "\n",
    "Your task is to re-implement all three networks using the Keras wrapper around Tensorflow OR\n",
    "re-implement using Pytorch. You will likely find several Keras or Pytorch implementations on the internet. It is ok to study these. However, you must not cut and paste this code into your assignment--you must write this yourself. Furthermore, you need to comment every line of code and succintly explain what it is doing! \n",
    "\n",
    "Here is what is required:\n",
    "\n",
    "a) A FULLY commented re-implementation of the ConvNet below using the Keras wrapper on Tensorflow OR Pytorch.\n",
    "\n",
    "b) your network trained on the same MNIST data as used here.\n",
    "\n",
    "c) an evaluation of the accuracy on the MNIST test set.\n",
    "\n",
    "d) plots of 10 randomly selected digits from the test set along with the correct label and the assigned label.\n",
    "\n",
    "e) have your training record a log of the data using the Keras API and then use Tensorboard (a command line tool) to display plots of the validation loss and validation accuracy. you can zip up a screenshot of this with your notebook before submission.\n",
    "\n",
    "f) have your training continually save the best model so far (as determined by the validation loss) using the Keras API or Pytorch.\n",
    "\n",
    "g) after training, load the saved weights using the best model so far. re-run you accuracy evaluation using these saved weights.\n",
    "\n",
    "Below we include the Tensorflow examples shown in class."
   ]
  },
  {
   "cell_type": "markdown",
   "metadata": {},
   "source": [
    "### A Simple Convolutional Neural Network in Tensorflow"
   ]
  },
  {
   "cell_type": "markdown",
   "metadata": {},
   "source": [
    "This notebook covers a python and tensorflow-based solution to the handwritten digits recognition problem. It is based on tensorflow tutorials and Yann LeCun's early work on CNN's. This toturial compares a simple softmax regressor, a multi-layer perceptron (MLP), and a simple convolutional neural network (CNN)."
   ]
  },
  {
   "cell_type": "markdown",
   "metadata": {},
   "source": [
    "Load in the MNIST digit dataset directly from tensorflow examples."
   ]
  },
  {
   "cell_type": "code",
   "execution_count": 2,
   "metadata": {},
   "outputs": [
    {
     "name": "stdout",
     "output_type": "stream",
     "text": [
      "Extracting MNIST_data/train-images-idx3-ubyte.gz\n",
      "Extracting MNIST_data/train-labels-idx1-ubyte.gz\n",
      "Extracting MNIST_data/t10k-images-idx3-ubyte.gz\n",
      "Extracting MNIST_data/t10k-labels-idx1-ubyte.gz\n"
     ]
    }
   ],
   "source": [
    "from tensorflow.examples.tutorials.mnist import input_data\n",
    "mnist = input_data.read_data_sets('MNIST_data', one_hot=True)"
   ]
  },
  {
   "cell_type": "markdown",
   "metadata": {},
   "source": [
    "The MNIST data is split into three parts: 55,000 data points of training data (mnist.train), 10,000 points of test data (mnist.test), and 5,000 points of validation data (mnist.validation). "
   ]
  },
  {
   "cell_type": "markdown",
   "metadata": {},
   "source": [
    "Let's import tensorflow and begin an interactive session."
   ]
  },
  {
   "cell_type": "code",
   "execution_count": 34,
   "metadata": {},
   "outputs": [],
   "source": [
    "import tensorflow as tf\n",
    "sess = tf.InteractiveSession()"
   ]
  },
  {
   "cell_type": "markdown",
   "metadata": {},
   "source": [
    "## Softmax Regression Model on the MNIST Digits Data"
   ]
  },
  {
   "cell_type": "markdown",
   "metadata": {},
   "source": [
    "We need to create placeholders for the data. Data will be dumped here when it is batched from the MNIST dataset."
   ]
  },
  {
   "cell_type": "code",
   "execution_count": 88,
   "metadata": {},
   "outputs": [],
   "source": [
    "x = tf.placeholder(tf.float32, shape=[None, 784])\n",
    "y_ = tf.placeholder(tf.float32, shape=[None, 10])"
   ]
  },
  {
   "cell_type": "markdown",
   "metadata": {},
   "source": [
    "Now let's see what this data looks like."
   ]
  },
  {
   "cell_type": "code",
   "execution_count": 89,
   "metadata": {},
   "outputs": [
    {
     "data": {
      "image/png": "[encoded data removed]",
      "text/plain": [
       "<Figure size 432x288 with 1 Axes>"
      ]
     },
     "metadata": {},
     "output_type": "display_data"
    },
    {
     "data": {
      "image/png": "[encoded data removed]",
      "text/plain": [
       "<Figure size 432x288 with 1 Axes>"
      ]
     },
     "metadata": {},
     "output_type": "display_data"
    },
    {
     "data": {
      "image/png": "[encoded data removed]",
      "text/plain": [
       "<Figure size 432x288 with 1 Axes>"
      ]
     },
     "metadata": {},
     "output_type": "display_data"
    },
    {
     "data": {
      "image/png": "[encoded data removed]",
      "text/plain": [
       "<Figure size 432x288 with 1 Axes>"
      ]
     },
     "metadata": {},
     "output_type": "display_data"
    }
   ],
   "source": [
    "import matplotlib.pyplot as plt\n",
    "import numpy as np\n",
    "\n",
    "for i in range(4):\n",
    "    batch = mnist.test.next_batch(1)\n",
    "    image = np.asarray(batch[0]).reshape((28, 28))\n",
    "    label = batch[1]\n",
    "    \n",
    "    plt.imshow(image, cmap='gray')\n",
    "    plt.axis(\"off\")\n",
    "    plt.show()"
   ]
  },
  {
   "cell_type": "markdown",
   "metadata": {},
   "source": [
    "We are first going to do softmax logistic regression. This is a linear layer followed by softmax. Note there are NO hidden layers here. Also note that the digit images (28x28 grayscale images) are reshaped into a 784 element vector. "
   ]
  },
  {
   "cell_type": "markdown",
   "metadata": {},
   "source": [
    "Below we create the parameters (weights) for our linear layer."
   ]
  },
  {
   "cell_type": "code",
   "execution_count": 90,
   "metadata": {},
   "outputs": [],
   "source": [
    "W = tf.Variable(tf.zeros([784,10]))\n",
    "b = tf.Variable(tf.zeros([10]))"
   ]
  },
  {
   "cell_type": "markdown",
   "metadata": {},
   "source": [
    "We then use tensorflows initializer to initialize these weights."
   ]
  },
  {
   "cell_type": "code",
   "execution_count": 91,
   "metadata": {},
   "outputs": [],
   "source": [
    "sess.run(tf.global_variables_initializer())"
   ]
  },
  {
   "cell_type": "markdown",
   "metadata": {},
   "source": [
    "We create our linear layer as a function of the input and the weights."
   ]
  },
  {
   "cell_type": "code",
   "execution_count": 92,
   "metadata": {},
   "outputs": [],
   "source": [
    "y_regressor = tf.matmul(x,W) + b"
   ]
  },
  {
   "cell_type": "markdown",
   "metadata": {},
   "source": [
    "Below we create our loss function. Note that the cross entropy is $ H_{\\hat{y}}(y) = -\\sum_i \\hat{y}_{i} \\, \\log(y_{i})$ where $\\hat{y}$ is the true probability distribution and is expressed as a one-hot vector, $y$ is the estimated probability distribution, and $i$ indexes elements of these two vectors. Also note that this reduces to $ H_{\\hat{y}}(y) = -\\, \\log(y_{i^*})$ where $i^*$ is the correct label. And if we sum this over all of our samples indexed by $j$, then $H_{\\hat{y}}(y) = -\\sum_j  \\log(y^{(j)}_{i^*})$. This is precisely the same loss function as we used before, but we called the MLE loss. They are one and the same."
   ]
  },
  {
   "cell_type": "code",
   "execution_count": 93,
   "metadata": {},
   "outputs": [],
   "source": [
    "cross_entropy = tf.reduce_mean(\n",
    "    tf.nn.softmax_cross_entropy_with_logits(labels=y_, logits=y_regressor))"
   ]
  },
  {
   "cell_type": "markdown",
   "metadata": {},
   "source": [
    "Now we tell tf to use gradient descent with a step size of 0.5 and to minimize the cross entropy."
   ]
  },
  {
   "cell_type": "code",
   "execution_count": 94,
   "metadata": {},
   "outputs": [],
   "source": [
    "train_step = tf.train.GradientDescentOptimizer(0.5).minimize(cross_entropy)"
   ]
  },
  {
   "cell_type": "markdown",
   "metadata": {},
   "source": [
    "We train by grabbing mini-batches with 100 samples each and pushing these through the network to update our weights (W and b)."
   ]
  },
  {
   "cell_type": "code",
   "execution_count": 95,
   "metadata": {},
   "outputs": [],
   "source": [
    "for _ in range(1000):\n",
    "  batch = mnist.train.next_batch(100)\n",
    "  train_step.run(feed_dict={x: batch[0], y_: batch[1]})"
   ]
  },
  {
   "cell_type": "markdown",
   "metadata": {},
   "source": [
    "We define how to compute correct predicitions."
   ]
  },
  {
   "cell_type": "code",
   "execution_count": 96,
   "metadata": {},
   "outputs": [],
   "source": [
    "correct_prediction = tf.equal(tf.argmax(y_regressor,1), tf.argmax(y_,1))"
   ]
  },
  {
   "cell_type": "markdown",
   "metadata": {},
   "source": [
    "And from these correct predictions how to compute the accuracy."
   ]
  },
  {
   "cell_type": "code",
   "execution_count": 97,
   "metadata": {},
   "outputs": [],
   "source": [
    "accuracy = tf.reduce_mean(tf.cast(correct_prediction, tf.float32))"
   ]
  },
  {
   "cell_type": "code",
   "execution_count": 98,
   "metadata": {},
   "outputs": [
    {
     "name": "stdout",
     "output_type": "stream",
     "text": [
      "0.9168\n"
     ]
    }
   ],
   "source": [
    "print(accuracy.eval(feed_dict={x: mnist.test.images, y_: mnist.test.labels}))"
   ]
  },
  {
   "cell_type": "markdown",
   "metadata": {},
   "source": [
    "Let's print out some test images and the corresponsing predictions made by the network. But first, let's add an output to the computation graph that computes the softmax probabilities."
   ]
  },
  {
   "cell_type": "code",
   "execution_count": 99,
   "metadata": {},
   "outputs": [],
   "source": [
    "y_probs_regressor = tf.nn.softmax(logits=y_regressor, name=None)"
   ]
  },
  {
   "cell_type": "code",
   "execution_count": 100,
   "metadata": {},
   "outputs": [
    {
     "data": {
      "image/png": "[encoded data removed]",
      "text/plain": [
       "<Figure size 432x288 with 1 Axes>"
      ]
     },
     "metadata": {},
     "output_type": "display_data"
    },
    {
     "name": "stdout",
     "output_type": "stream",
     "text": [
      "Label =  [[0. 0. 0. 0. 0. 0. 0. 0. 0. 1.]]\n",
      "Class probabilities =  [[5.7868356e-06 1.0960512e-06 7.0933005e-05 1.3369437e-04 2.2966379e-01\n",
      "  4.3973927e-05 8.0909129e-05 2.7946601e-04 5.5398531e-03 7.6418048e-01]]\n"
     ]
    },
    {
     "data": {
      "image/png": "[encoded data removed]",
      "text/plain": [
       "<Figure size 432x288 with 1 Axes>"
      ]
     },
     "metadata": {},
     "output_type": "display_data"
    },
    {
     "name": "stdout",
     "output_type": "stream",
     "text": [
      "Label =  [[0. 0. 0. 0. 0. 0. 0. 0. 1. 0.]]\n",
      "Class probabilities =  [[1.07988366e-04 1.85040496e-02 6.85910694e-04 9.52854156e-01\n",
      "  3.68666690e-07 1.11012615e-03 3.56482616e-07 1.94580108e-03\n",
      "  1.34969251e-02 1.12942373e-02]]\n"
     ]
    },
    {
     "data": {
      "image/png": "[encoded data removed]",
      "text/plain": [
       "<Figure size 432x288 with 1 Axes>"
      ]
     },
     "metadata": {},
     "output_type": "display_data"
    },
    {
     "name": "stdout",
     "output_type": "stream",
     "text": [
      "Label =  [[0. 0. 0. 0. 0. 0. 1. 0. 0. 0.]]\n",
      "Class probabilities =  [[7.7000050e-07 1.9392106e-04 2.6541899e-03 1.9969192e-04 4.3661382e-02\n",
      "  3.7085495e-04 9.4621152e-01 2.3503811e-05 1.2821722e-03 5.4019629e-03]]\n"
     ]
    },
    {
     "data": {
      "image/png": "[encoded data removed]",
      "text/plain": [
       "<Figure size 432x288 with 1 Axes>"
      ]
     },
     "metadata": {},
     "output_type": "display_data"
    },
    {
     "name": "stdout",
     "output_type": "stream",
     "text": [
      "Label =  [[0. 0. 0. 1. 0. 0. 0. 0. 0. 0.]]\n",
      "Class probabilities =  [[4.0822830e-03 6.9544464e-02 1.0719517e-02 6.8291938e-01 1.6180762e-06\n",
      "  1.9808555e-01 2.7856557e-04 2.1188654e-04 3.3590816e-02 5.6585693e-04]]\n"
     ]
    },
    {
     "data": {
      "image/png": "[encoded data removed]",
      "text/plain": [
       "<Figure size 432x288 with 1 Axes>"
      ]
     },
     "metadata": {},
     "output_type": "display_data"
    },
    {
     "name": "stdout",
     "output_type": "stream",
     "text": [
      "Label =  [[0. 1. 0. 0. 0. 0. 0. 0. 0. 0.]]\n",
      "Class probabilities =  [[2.2713131e-05 9.7108227e-01 1.3474120e-02 5.9603201e-03 4.4256221e-06\n",
      "  7.7636359e-04 2.2026870e-04 1.5071974e-04 8.0492878e-03 2.5937715e-04]]\n"
     ]
    }
   ],
   "source": [
    "for i in range(5):\n",
    "    batch = mnist.test.next_batch(1)\n",
    "    image = np.asarray(batch[0]).reshape((28, 28))\n",
    "    label = batch[1]\n",
    "    \n",
    "    plt.imshow(image, cmap='gray')\n",
    "    plt.axis(\"off\")\n",
    "    plt.show()\n",
    "    print (\"Label = \", label)\n",
    "    print (\"Class probabilities = \", y_probs_regressor.eval(feed_dict={\n",
    "        x: batch[0], y_: batch[1]}))"
   ]
  },
  {
   "cell_type": "markdown",
   "metadata": {},
   "source": [
    "# Softmax regression model"
   ]
  },
  {
   "cell_type": "markdown",
   "metadata": {},
   "source": [
    "## a) - b) Implement softmax regression model"
   ]
  },
  {
   "cell_type": "code",
   "execution_count": 23,
   "metadata": {},
   "outputs": [],
   "source": [
    "from keras.models import Sequential\n",
    "from keras.layers import Dense, Activation\n",
    "from keras import optimizers\n",
    "from keras.callbacks import ModelCheckpoint, TensorBoard\n",
    "\n",
    "import matplotlib.pyplot as plt\n",
    "import numpy as np"
   ]
  },
  {
   "cell_type": "code",
   "execution_count": 54,
   "metadata": {},
   "outputs": [
    {
     "name": "stdout",
     "output_type": "stream",
     "text": [
      "Train on 55000 samples, validate on 5000 samples\n",
      "Epoch 1/30\n",
      "55000/55000 [==============================] - 1s 17us/step - loss: 0.3983 - acc: 0.8858 - val_loss: 0.3156 - val_acc: 0.9120\n",
      "\n",
      "Epoch 00001: val_acc improved from -inf to 0.91200, saving model to weights/weights.hdf5\n",
      "Epoch 2/30\n",
      "55000/55000 [==============================] - 1s 15us/step - loss: 0.3098 - acc: 0.9125 - val_loss: 0.2796 - val_acc: 0.9216\n",
      "\n",
      "Epoch 00002: val_acc improved from 0.91200 to 0.92160, saving model to weights/weights.hdf5\n",
      "Epoch 3/30\n",
      "55000/55000 [==============================] - 1s 16us/step - loss: 0.2960 - acc: 0.9172 - val_loss: 0.2795 - val_acc: 0.9208\n",
      "\n",
      "Epoch 00003: val_acc did not improve\n",
      "Epoch 4/30\n",
      "55000/55000 [==============================] - 1s 16us/step - loss: 0.2866 - acc: 0.9196 - val_loss: 0.2712 - val_acc: 0.9276\n",
      "\n",
      "Epoch 00004: val_acc improved from 0.92160 to 0.92760, saving model to weights/weights.hdf5\n",
      "Epoch 5/30\n",
      "55000/55000 [==============================] - 1s 15us/step - loss: 0.2817 - acc: 0.9213 - val_loss: 0.2775 - val_acc: 0.9176\n",
      "\n",
      "Epoch 00005: val_acc did not improve\n",
      "Epoch 6/30\n",
      "55000/55000 [==============================] - 1s 15us/step - loss: 0.2780 - acc: 0.9216 - val_loss: 0.2728 - val_acc: 0.9244\n",
      "\n",
      "Epoch 00006: val_acc did not improve\n",
      "Epoch 7/30\n",
      "55000/55000 [==============================] - 1s 15us/step - loss: 0.2735 - acc: 0.9228 - val_loss: 0.2695 - val_acc: 0.9248\n",
      "\n",
      "Epoch 00007: val_acc did not improve\n",
      "Epoch 8/30\n",
      "55000/55000 [==============================] - 1s 15us/step - loss: 0.2712 - acc: 0.9244 - val_loss: 0.2668 - val_acc: 0.9262\n",
      "\n",
      "Epoch 00008: val_acc did not improve\n",
      "Epoch 9/30\n",
      "55000/55000 [==============================] - 1s 16us/step - loss: 0.2690 - acc: 0.9253 - val_loss: 0.2637 - val_acc: 0.9282\n",
      "\n",
      "Epoch 00009: val_acc improved from 0.92760 to 0.92820, saving model to weights/weights.hdf5\n",
      "Epoch 10/30\n",
      "55000/55000 [==============================] - 1s 15us/step - loss: 0.2673 - acc: 0.9250 - val_loss: 0.2666 - val_acc: 0.9276\n",
      "\n",
      "Epoch 00010: val_acc did not improve\n",
      "Epoch 11/30\n",
      "55000/55000 [==============================] - 1s 15us/step - loss: 0.2651 - acc: 0.9269 - val_loss: 0.2645 - val_acc: 0.9254\n",
      "\n",
      "Epoch 00011: val_acc did not improve\n",
      "Epoch 12/30\n",
      "55000/55000 [==============================] - 1s 16us/step - loss: 0.2648 - acc: 0.9257 - val_loss: 0.2622 - val_acc: 0.9292\n",
      "\n",
      "Epoch 00012: val_acc improved from 0.92820 to 0.92920, saving model to weights/weights.hdf5\n",
      "Epoch 13/30\n",
      "55000/55000 [==============================] - 1s 16us/step - loss: 0.2624 - acc: 0.9271 - val_loss: 0.2719 - val_acc: 0.9254\n",
      "\n",
      "Epoch 00013: val_acc did not improve\n",
      "Epoch 14/30\n",
      "55000/55000 [==============================] - 1s 16us/step - loss: 0.2618 - acc: 0.9271 - val_loss: 0.2648 - val_acc: 0.9262\n",
      "\n",
      "Epoch 00014: val_acc did not improve\n",
      "Epoch 15/30\n",
      "55000/55000 [==============================] - 1s 15us/step - loss: 0.2613 - acc: 0.9270 - val_loss: 0.2697 - val_acc: 0.9250\n",
      "\n",
      "Epoch 00015: val_acc did not improve\n",
      "Epoch 16/30\n",
      "55000/55000 [==============================] - 1s 16us/step - loss: 0.2595 - acc: 0.9277 - val_loss: 0.2707 - val_acc: 0.9250\n",
      "\n",
      "Epoch 00016: val_acc did not improve\n",
      "Epoch 17/30\n",
      "55000/55000 [==============================] - 1s 16us/step - loss: 0.2585 - acc: 0.9275 - val_loss: 0.2618 - val_acc: 0.9294\n",
      "\n",
      "Epoch 00017: val_acc improved from 0.92920 to 0.92940, saving model to weights/weights.hdf5\n",
      "Epoch 18/30\n",
      "55000/55000 [==============================] - 1s 15us/step - loss: 0.2578 - acc: 0.9277 - val_loss: 0.2693 - val_acc: 0.9278\n",
      "\n",
      "Epoch 00018: val_acc did not improve\n",
      "Epoch 19/30\n",
      "55000/55000 [==============================] - 1s 16us/step - loss: 0.2564 - acc: 0.9280 - val_loss: 0.2635 - val_acc: 0.9274\n",
      "\n",
      "Epoch 00019: val_acc did not improve\n",
      "Epoch 20/30\n",
      "55000/55000 [==============================] - 1s 16us/step - loss: 0.2561 - acc: 0.9288 - val_loss: 0.2686 - val_acc: 0.9274\n",
      "\n",
      "Epoch 00020: val_acc did not improve\n",
      "Epoch 21/30\n",
      "55000/55000 [==============================] - 1s 14us/step - loss: 0.2547 - acc: 0.9282 - val_loss: 0.2715 - val_acc: 0.9244\n",
      "\n",
      "Epoch 00021: val_acc did not improve\n",
      "Epoch 22/30\n",
      "55000/55000 [==============================] - 1s 15us/step - loss: 0.2539 - acc: 0.9293 - val_loss: 0.2684 - val_acc: 0.9288\n",
      "\n",
      "Epoch 00022: val_acc did not improve\n",
      "Epoch 23/30\n",
      "55000/55000 [==============================] - 1s 14us/step - loss: 0.2540 - acc: 0.9295 - val_loss: 0.2659 - val_acc: 0.9282\n",
      "\n",
      "Epoch 00023: val_acc did not improve\n",
      "Epoch 24/30\n",
      "55000/55000 [==============================] - 1s 14us/step - loss: 0.2533 - acc: 0.9289 - val_loss: 0.2672 - val_acc: 0.9288\n",
      "\n",
      "Epoch 00024: val_acc did not improve\n",
      "Epoch 25/30\n",
      "55000/55000 [==============================] - 1s 13us/step - loss: 0.2530 - acc: 0.9299 - val_loss: 0.2723 - val_acc: 0.9258\n",
      "\n",
      "Epoch 00025: val_acc did not improve\n",
      "Epoch 26/30\n",
      "55000/55000 [==============================] - 1s 14us/step - loss: 0.2517 - acc: 0.9299 - val_loss: 0.2665 - val_acc: 0.9280\n",
      "\n",
      "Epoch 00026: val_acc did not improve\n",
      "Epoch 27/30\n",
      "55000/55000 [==============================] - 1s 14us/step - loss: 0.2513 - acc: 0.9306 - val_loss: 0.2658 - val_acc: 0.9282\n",
      "\n",
      "Epoch 00027: val_acc did not improve\n",
      "Epoch 28/30\n",
      "55000/55000 [==============================] - 1s 14us/step - loss: 0.2517 - acc: 0.9300 - val_loss: 0.2705 - val_acc: 0.9274\n",
      "\n",
      "Epoch 00028: val_acc did not improve\n",
      "Epoch 29/30\n",
      "55000/55000 [==============================] - 1s 14us/step - loss: 0.2504 - acc: 0.9298 - val_loss: 0.2755 - val_acc: 0.9248\n",
      "\n",
      "Epoch 00029: val_acc did not improve\n",
      "Epoch 30/30\n",
      "55000/55000 [==============================] - 1s 13us/step - loss: 0.2498 - acc: 0.9303 - val_loss: 0.2700 - val_acc: 0.9262\n",
      "\n",
      "Epoch 00030: val_acc did not improve\n"
     ]
    },
    {
     "data": {
      "text/plain": [
       "<keras.callbacks.History at 0x138f5abe0>"
      ]
     },
     "execution_count": 54,
     "metadata": {},
     "output_type": "execute_result"
    }
   ],
   "source": [
    "model = Sequential([\n",
    "    # a single fully connected layer without activation function\n",
    "    # initialize weight and bias to be zero\n",
    "    Dense(10, input_dim=784, kernel_initializer='zeros', bias_initializer='zeros'),\n",
    "    # use softmax to compute 10 class possibilities\n",
    "    Activation('softmax'),\n",
    "])\n",
    "\n",
    "sgd = optimizers.SGD(lr=0.5)\n",
    "model.compile(optimizer=sgd,\n",
    "              loss='categorical_crossentropy',\n",
    "              metrics=['accuracy'])\n",
    "\n",
    "checkpointer = ModelCheckpoint(filepath='weights/weights.hdf5', monitor='val_acc', verbose=1, save_best_only=True, mode='max')\n",
    "tensorboard = TensorBoard(log_dir='tensorboard/', histogram_freq=0, write_graph=True, write_images=True)\n",
    "\n",
    "model.fit(x=mnist.train.images, \n",
    "          y=mnist.train.labels, \n",
    "          validation_data=(mnist.validation.images, mnist.validation.labels), \n",
    "          callbacks=[checkpointer, tensorboard],\n",
    "          verbose=1,\n",
    "          epochs=30, \n",
    "          batch_size=100)"
   ]
  },
  {
   "cell_type": "markdown",
   "metadata": {},
   "source": [
    "## c) Evaluate performance on mnist test data"
   ]
  },
  {
   "cell_type": "code",
   "execution_count": 21,
   "metadata": {},
   "outputs": [
    {
     "name": "stdout",
     "output_type": "stream",
     "text": [
      "Accuracy on the MNIST test set: 0.9256, validation accuracy: 0.9284\n"
     ]
    }
   ],
   "source": [
    "test_accuracy = model.evaluate(mnist.test.images, mnist.test.labels, verbose=0)[1]\n",
    "validation_accuracy = model.evaluate(mnist.validation.images, mnist.validation.labels, verbose=0)[1]\n",
    "print(\"Accuracy on the MNIST test set: {}, validation accuracy: {}\".format(test_accuracy, validation_accuracy))"
   ]
  },
  {
   "cell_type": "markdown",
   "metadata": {},
   "source": [
    "## d) Plot 10 random images with true and predicted labels"
   ]
  },
  {
   "cell_type": "code",
   "execution_count": 30,
   "metadata": {},
   "outputs": [
    {
     "data": {
      "image/png": "[encoded data removed]",
      "text/plain": [
       "<Figure size 432x288 with 1 Axes>"
      ]
     },
     "metadata": {},
     "output_type": "display_data"
    },
    {
     "name": "stdout",
     "output_type": "stream",
     "text": [
      "Correct label: 9\n",
      "Assigned label: 9\n"
     ]
    },
    {
     "data": {
      "image/png": "[encoded data removed]",
      "text/plain": [
       "<Figure size 432x288 with 1 Axes>"
      ]
     },
     "metadata": {},
     "output_type": "display_data"
    },
    {
     "name": "stdout",
     "output_type": "stream",
     "text": [
      "Correct label: 5\n",
      "Assigned label: 5\n"
     ]
    },
    {
     "data": {
      "image/png": "[encoded data removed]",
      "text/plain": [
       "<Figure size 432x288 with 1 Axes>"
      ]
     },
     "metadata": {},
     "output_type": "display_data"
    },
    {
     "name": "stdout",
     "output_type": "stream",
     "text": [
      "Correct label: 6\n",
      "Assigned label: 6\n"
     ]
    },
    {
     "data": {
      "image/png": "[encoded data removed]",
      "text/plain": [
       "<Figure size 432x288 with 1 Axes>"
      ]
     },
     "metadata": {},
     "output_type": "display_data"
    },
    {
     "name": "stdout",
     "output_type": "stream",
     "text": [
      "Correct label: 5\n",
      "Assigned label: 5\n"
     ]
    },
    {
     "data": {
      "image/png": "[encoded data removed]",
      "text/plain": [
       "<Figure size 432x288 with 1 Axes>"
      ]
     },
     "metadata": {},
     "output_type": "display_data"
    },
    {
     "name": "stdout",
     "output_type": "stream",
     "text": [
      "Correct label: 7\n",
      "Assigned label: 7\n"
     ]
    },
    {
     "data": {
      "image/png": "[encoded data removed]",
      "text/plain": [
       "<Figure size 432x288 with 1 Axes>"
      ]
     },
     "metadata": {},
     "output_type": "display_data"
    },
    {
     "name": "stdout",
     "output_type": "stream",
     "text": [
      "Correct label: 2\n",
      "Assigned label: 2\n"
     ]
    },
    {
     "data": {
      "image/png": "[encoded data removed]",
      "text/plain": [
       "<Figure size 432x288 with 1 Axes>"
      ]
     },
     "metadata": {},
     "output_type": "display_data"
    },
    {
     "name": "stdout",
     "output_type": "stream",
     "text": [
      "Correct label: 7\n",
      "Assigned label: 7\n"
     ]
    },
    {
     "data": {
      "image/png": "[encoded data removed]",
      "text/plain": [
       "<Figure size 432x288 with 1 Axes>"
      ]
     },
     "metadata": {},
     "output_type": "display_data"
    },
    {
     "name": "stdout",
     "output_type": "stream",
     "text": [
      "Correct label: 1\n",
      "Assigned label: 1\n"
     ]
    },
    {
     "data": {
      "image/png": "[encoded data removed]",
      "text/plain": [
       "<Figure size 432x288 with 1 Axes>"
      ]
     },
     "metadata": {},
     "output_type": "display_data"
    },
    {
     "name": "stdout",
     "output_type": "stream",
     "text": [
      "Correct label: 4\n",
      "Assigned label: 4\n"
     ]
    },
    {
     "data": {
      "image/png": "[encoded data removed]",
      "text/plain": [
       "<Figure size 432x288 with 1 Axes>"
      ]
     },
     "metadata": {},
     "output_type": "display_data"
    },
    {
     "name": "stdout",
     "output_type": "stream",
     "text": [
      "Correct label: 8\n",
      "Assigned label: 8\n"
     ]
    }
   ],
   "source": [
    "for i in range(10):\n",
    "    batch = mnist.test.next_batch(1)\n",
    "    image = np.asarray(batch[0]).reshape((28, 28))\n",
    "    label = batch[1]\n",
    "    \n",
    "    plt.imshow(image, cmap='gray')\n",
    "    plt.axis(\"off\")\n",
    "    plt.show()\n",
    "    print(\"Correct label: {}\".format(np.argmax(label)))\n",
    "    print(\"Assigned label: {}\".format(np.argmax(model.predict(image.reshape(1, 784)))))"
   ]
  },
  {
   "cell_type": "markdown",
   "metadata": {},
   "source": [
    "## e) See the submitted screen shot - softmax_regression"
   ]
  },
  {
   "cell_type": "markdown",
   "metadata": {},
   "source": [
    "## f) - g) Load the best model saved by the program"
   ]
  },
  {
   "cell_type": "code",
   "execution_count": 31,
   "metadata": {},
   "outputs": [
    {
     "name": "stdout",
     "output_type": "stream",
     "text": [
      "Model with best validation accuracy\n",
      "Accuracy on the MNIST test set: 0.9261, validation accuracy: 0.93\n"
     ]
    }
   ],
   "source": [
    "model.load_weights(filepath='weights/weights.hdf5')\n",
    "test_accuracy_best = model.evaluate(mnist.test.images, mnist.test.labels, verbose=0)[1]\n",
    "validation_accuracy_best = model.evaluate(mnist.validation.images, mnist.validation.labels, verbose=0)[1]\n",
    "print(\"Model with best validation accuracy\\nAccuracy on the MNIST test set: {}, validation accuracy: {}\".format(test_accuracy_best, validation_accuracy_best))"
   ]
  },
  {
   "cell_type": "markdown",
   "metadata": {},
   "source": [
    "## Softmax Multi-Layer Perceptron on the MNIST Digits Data"
   ]
  },
  {
   "cell_type": "markdown",
   "metadata": {},
   "source": [
    "Here we define both weight and bias variables and how they are to be initialized. Note that the weights are are distributed according to a standard normal distribution (mean = 0, std = 0.1). This random initialization helps avoid hidden units get stuck together, as units that start with the same value will be updated identically in the non-convolutional layers. In contrast, the bias variables are set to a small positive number--this is help prevent hidden units from starting out and getting stuck in the zero part of the ReLU. "
   ]
  },
  {
   "cell_type": "code",
   "execution_count": 32,
   "metadata": {},
   "outputs": [],
   "source": [
    "def weight_variable(shape):\n",
    "  initial = tf.truncated_normal(shape, stddev=0.1)\n",
    "  return tf.Variable(initial)\n",
    "\n",
    "def bias_variable(shape):\n",
    "  initial = tf.constant(0.1, shape=shape)\n",
    "  return tf.Variable(initial)"
   ]
  },
  {
   "cell_type": "markdown",
   "metadata": {},
   "source": [
    "Next we create placeholders for the training data."
   ]
  },
  {
   "cell_type": "code",
   "execution_count": 35,
   "metadata": {},
   "outputs": [],
   "source": [
    "x = tf.placeholder(tf.float32, shape=[None, 784])\n",
    "y_ = tf.placeholder(tf.float32, shape=[None, 10])"
   ]
  },
  {
   "cell_type": "markdown",
   "metadata": {},
   "source": [
    "We create the first and only fully connected hidden layer."
   ]
  },
  {
   "cell_type": "code",
   "execution_count": 36,
   "metadata": {},
   "outputs": [],
   "source": [
    "W_h = weight_variable([784, 512])\n",
    "b_h = bias_variable([512])\n",
    "h = tf.nn.relu(tf.matmul(x, W_h) + b_h)"
   ]
  },
  {
   "cell_type": "markdown",
   "metadata": {},
   "source": [
    "We create the output layer."
   ]
  },
  {
   "cell_type": "code",
   "execution_count": 37,
   "metadata": {},
   "outputs": [],
   "source": [
    "W_out = weight_variable([512, 10])\n",
    "b_out = bias_variable([10])\n",
    "y_MLP = tf.matmul(h, W_out) + b_out"
   ]
  },
  {
   "cell_type": "markdown",
   "metadata": {},
   "source": [
    "We again use cross entropy loss on a softmax distribution on the outputs."
   ]
  },
  {
   "cell_type": "code",
   "execution_count": 39,
   "metadata": {},
   "outputs": [],
   "source": [
    "cross_entropy = tf.reduce_mean(\n",
    "    tf.nn.softmax_cross_entropy_with_logits(labels=y_, logits=y_MLP))"
   ]
  },
  {
   "cell_type": "markdown",
   "metadata": {},
   "source": [
    "For training we choose an Adam learning rate and update rule. We then run this for 20,000 iterations and evaluate our accuracy after training. Note this softmax MLP network does quite a bit bettter than our softmax regressor. The non-linear layer really helps makes sense of the data! But we can do better still..."
   ]
  },
  {
   "cell_type": "code",
   "execution_count": 40,
   "metadata": {
    "scrolled": false
   },
   "outputs": [
    {
     "name": "stdout",
     "output_type": "stream",
     "text": [
      "step 0, training accuracy 0.14\n",
      "step 1000, training accuracy 0.88\n",
      "step 2000, training accuracy 0.92\n",
      "step 3000, training accuracy 0.92\n",
      "step 4000, training accuracy 1\n",
      "step 5000, training accuracy 1\n",
      "step 6000, training accuracy 0.98\n",
      "step 7000, training accuracy 1\n",
      "step 8000, training accuracy 0.96\n",
      "step 9000, training accuracy 1\n",
      "step 10000, training accuracy 0.92\n",
      "step 11000, training accuracy 1\n",
      "step 12000, training accuracy 1\n",
      "step 13000, training accuracy 1\n",
      "step 14000, training accuracy 1\n",
      "step 15000, training accuracy 1\n",
      "step 16000, training accuracy 1\n",
      "step 17000, training accuracy 0.96\n",
      "step 18000, training accuracy 1\n",
      "step 19000, training accuracy 1\n",
      "test accuracy 0.9787\n"
     ]
    }
   ],
   "source": [
    "train_step = tf.train.AdamOptimizer(1e-4).minimize(cross_entropy)\n",
    "correct_prediction = tf.equal(tf.argmax(y_MLP,1), tf.argmax(y_,1))\n",
    "accuracy = tf.reduce_mean(tf.cast(correct_prediction, tf.float32))\n",
    "sess.run(tf.global_variables_initializer())\n",
    "for i in range(20000):\n",
    "  batch = mnist.train.next_batch(50)\n",
    "  if i%1000 == 0:\n",
    "    train_accuracy = accuracy.eval(feed_dict={\n",
    "        x:batch[0], y_: batch[1]})\n",
    "    print(\"step %d, training accuracy %g\"%(i, train_accuracy))\n",
    "  train_step.run(feed_dict={x: batch[0], y_: batch[1]})\n",
    "\n",
    "print(\"test accuracy %g\"%accuracy.eval(feed_dict={\n",
    "    x: mnist.test.images, y_: mnist.test.labels}))"
   ]
  },
  {
   "cell_type": "markdown",
   "metadata": {},
   "source": [
    "# MLP"
   ]
  },
  {
   "cell_type": "markdown",
   "metadata": {},
   "source": [
    "## a) - b) Implement softmax regression model"
   ]
  },
  {
   "cell_type": "code",
   "execution_count": 50,
   "metadata": {},
   "outputs": [],
   "source": [
    "from keras.optimizers import Adam\n",
    "from keras.initializers import RandomNormal, Constant"
   ]
  },
  {
   "cell_type": "code",
   "execution_count": 56,
   "metadata": {},
   "outputs": [
    {
     "name": "stdout",
     "output_type": "stream",
     "text": [
      "Train on 55000 samples, validate on 5000 samples\n",
      "Epoch 1/30\n",
      "55000/55000 [==============================] - 3s 49us/step - loss: 0.7151 - acc: 0.7889 - val_loss: 0.3159 - val_acc: 0.9154\n",
      "\n",
      "Epoch 00001: val_acc improved from -inf to 0.91540, saving model to weights/weights_mlp.hdf5\n",
      "Epoch 2/30\n",
      "55000/55000 [==============================] - 3s 46us/step - loss: 0.2870 - acc: 0.9195 - val_loss: 0.2330 - val_acc: 0.9394\n",
      "\n",
      "Epoch 00002: val_acc improved from 0.91540 to 0.93940, saving model to weights/weights_mlp.hdf5\n",
      "Epoch 3/30\n",
      "55000/55000 [==============================] - 3s 49us/step - loss: 0.2248 - acc: 0.9375 - val_loss: 0.1956 - val_acc: 0.9486\n",
      "\n",
      "Epoch 00003: val_acc improved from 0.93940 to 0.94860, saving model to weights/weights_mlp.hdf5\n",
      "Epoch 4/30\n",
      "55000/55000 [==============================] - 3s 48us/step - loss: 0.1885 - acc: 0.9481 - val_loss: 0.1716 - val_acc: 0.9538\n",
      "\n",
      "Epoch 00004: val_acc improved from 0.94860 to 0.95380, saving model to weights/weights_mlp.hdf5\n",
      "Epoch 5/30\n",
      "55000/55000 [==============================] - 3s 48us/step - loss: 0.1629 - acc: 0.9550 - val_loss: 0.1535 - val_acc: 0.9594\n",
      "\n",
      "Epoch 00005: val_acc improved from 0.95380 to 0.95940, saving model to weights/weights_mlp.hdf5\n",
      "Epoch 6/30\n",
      "55000/55000 [==============================] - 3s 50us/step - loss: 0.1430 - acc: 0.9609 - val_loss: 0.1383 - val_acc: 0.9644\n",
      "\n",
      "Epoch 00006: val_acc improved from 0.95940 to 0.96440, saving model to weights/weights_mlp.hdf5\n",
      "Epoch 7/30\n",
      "55000/55000 [==============================] - 3s 50us/step - loss: 0.1272 - acc: 0.9656 - val_loss: 0.1282 - val_acc: 0.9650\n",
      "\n",
      "Epoch 00007: val_acc improved from 0.96440 to 0.96500, saving model to weights/weights_mlp.hdf5\n",
      "Epoch 8/30\n",
      "55000/55000 [==============================] - 3s 49us/step - loss: 0.1141 - acc: 0.9694 - val_loss: 0.1193 - val_acc: 0.9674\n",
      "\n",
      "Epoch 00008: val_acc improved from 0.96500 to 0.96740, saving model to weights/weights_mlp.hdf5\n",
      "Epoch 9/30\n",
      "55000/55000 [==============================] - 3s 47us/step - loss: 0.1032 - acc: 0.9725 - val_loss: 0.1129 - val_acc: 0.9694\n",
      "\n",
      "Epoch 00009: val_acc improved from 0.96740 to 0.96940, saving model to weights/weights_mlp.hdf5\n",
      "Epoch 10/30\n",
      "55000/55000 [==============================] - 3s 46us/step - loss: 0.0935 - acc: 0.9751 - val_loss: 0.1060 - val_acc: 0.9702\n",
      "\n",
      "Epoch 00010: val_acc improved from 0.96940 to 0.97020, saving model to weights/weights_mlp.hdf5\n",
      "Epoch 11/30\n",
      "55000/55000 [==============================] - 3s 46us/step - loss: 0.0851 - acc: 0.9778 - val_loss: 0.1006 - val_acc: 0.9720\n",
      "\n",
      "Epoch 00011: val_acc improved from 0.97020 to 0.97200, saving model to weights/weights_mlp.hdf5\n",
      "Epoch 12/30\n",
      "55000/55000 [==============================] - 3s 49us/step - loss: 0.0779 - acc: 0.9800 - val_loss: 0.0978 - val_acc: 0.9718\n",
      "\n",
      "Epoch 00012: val_acc did not improve\n",
      "Epoch 13/30\n",
      "55000/55000 [==============================] - 3s 48us/step - loss: 0.0714 - acc: 0.9819 - val_loss: 0.0928 - val_acc: 0.9756\n",
      "\n",
      "Epoch 00013: val_acc improved from 0.97200 to 0.97560, saving model to weights/weights_mlp.hdf5\n",
      "Epoch 14/30\n",
      "55000/55000 [==============================] - 3s 46us/step - loss: 0.0656 - acc: 0.9834 - val_loss: 0.0895 - val_acc: 0.9748\n",
      "\n",
      "Epoch 00014: val_acc did not improve\n",
      "Epoch 15/30\n",
      "55000/55000 [==============================] - 3s 47us/step - loss: 0.0606 - acc: 0.9848 - val_loss: 0.0859 - val_acc: 0.9756\n",
      "\n",
      "Epoch 00015: val_acc did not improve\n",
      "Epoch 16/30\n",
      "55000/55000 [==============================] - 3s 48us/step - loss: 0.0560 - acc: 0.9861 - val_loss: 0.0818 - val_acc: 0.9766\n",
      "\n",
      "Epoch 00016: val_acc improved from 0.97560 to 0.97660, saving model to weights/weights_mlp.hdf5\n",
      "Epoch 17/30\n",
      "55000/55000 [==============================] - 3s 48us/step - loss: 0.0515 - acc: 0.9875 - val_loss: 0.0802 - val_acc: 0.9766\n",
      "\n",
      "Epoch 00017: val_acc did not improve\n",
      "Epoch 18/30\n",
      "55000/55000 [==============================] - 3s 51us/step - loss: 0.0477 - acc: 0.9884 - val_loss: 0.0799 - val_acc: 0.9758\n",
      "\n",
      "Epoch 00018: val_acc did not improve\n",
      "Epoch 19/30\n",
      "55000/55000 [==============================] - 3s 52us/step - loss: 0.0441 - acc: 0.9895 - val_loss: 0.0765 - val_acc: 0.9778\n",
      "\n",
      "Epoch 00019: val_acc improved from 0.97660 to 0.97780, saving model to weights/weights_mlp.hdf5\n",
      "Epoch 20/30\n",
      "55000/55000 [==============================] - 3s 51us/step - loss: 0.0409 - acc: 0.9906 - val_loss: 0.0757 - val_acc: 0.9768\n",
      "\n",
      "Epoch 00020: val_acc did not improve\n",
      "Epoch 21/30\n",
      "55000/55000 [==============================] - 3s 51us/step - loss: 0.0377 - acc: 0.9916 - val_loss: 0.0735 - val_acc: 0.9784\n",
      "\n",
      "Epoch 00021: val_acc improved from 0.97780 to 0.97840, saving model to weights/weights_mlp.hdf5\n",
      "Epoch 22/30\n",
      "55000/55000 [==============================] - 3s 52us/step - loss: 0.0349 - acc: 0.9925 - val_loss: 0.0733 - val_acc: 0.9774\n",
      "\n",
      "Epoch 00022: val_acc did not improve\n",
      "Epoch 23/30\n",
      "55000/55000 [==============================] - 3s 52us/step - loss: 0.0325 - acc: 0.9933 - val_loss: 0.0718 - val_acc: 0.9780\n",
      "\n",
      "Epoch 00023: val_acc did not improve\n",
      "Epoch 24/30\n",
      "55000/55000 [==============================] - 3s 54us/step - loss: 0.0300 - acc: 0.9943 - val_loss: 0.0712 - val_acc: 0.9784\n",
      "\n",
      "Epoch 00024: val_acc did not improve\n",
      "Epoch 25/30\n",
      "55000/55000 [==============================] - 3s 49us/step - loss: 0.0278 - acc: 0.9947 - val_loss: 0.0700 - val_acc: 0.9784\n",
      "\n",
      "Epoch 00025: val_acc did not improve\n",
      "Epoch 26/30\n",
      "55000/55000 [==============================] - 3s 49us/step - loss: 0.0258 - acc: 0.9953 - val_loss: 0.0675 - val_acc: 0.9780\n",
      "\n",
      "Epoch 00026: val_acc did not improve\n",
      "Epoch 27/30\n",
      "55000/55000 [==============================] - 3s 47us/step - loss: 0.0239 - acc: 0.9959 - val_loss: 0.0670 - val_acc: 0.9792\n",
      "\n",
      "Epoch 00027: val_acc improved from 0.97840 to 0.97920, saving model to weights/weights_mlp.hdf5\n",
      "Epoch 28/30\n",
      "55000/55000 [==============================] - 3s 51us/step - loss: 0.0221 - acc: 0.9964 - val_loss: 0.0689 - val_acc: 0.9780\n",
      "\n",
      "Epoch 00028: val_acc did not improve\n",
      "Epoch 29/30\n",
      "55000/55000 [==============================] - 3s 49us/step - loss: 0.0206 - acc: 0.9969 - val_loss: 0.0661 - val_acc: 0.9780\n",
      "\n",
      "Epoch 00029: val_acc did not improve\n",
      "Epoch 30/30\n",
      "55000/55000 [==============================] - 3s 56us/step - loss: 0.0190 - acc: 0.9974 - val_loss: 0.0672 - val_acc: 0.9796\n",
      "\n",
      "Epoch 00030: val_acc improved from 0.97920 to 0.97960, saving model to weights/weights_mlp.hdf5\n"
     ]
    },
    {
     "data": {
      "text/plain": [
       "<keras.callbacks.History at 0x1277259e8>"
      ]
     },
     "execution_count": 56,
     "metadata": {},
     "output_type": "execute_result"
    }
   ],
   "source": [
    "# initialize weight as values under normal distribution with mean=0, standard deviation=0.1\n",
    "weight_initializer = RandomNormal(mean=0.0, stddev=0.1, seed=None)\n",
    "# initialize bias as small constants\n",
    "bias_initializer = Constant(value=0.1)\n",
    "\n",
    "model = Sequential([\n",
    "    # hidden layer\n",
    "    Dense(512, input_dim=784, kernel_initializer=weight_initializer, bias_initializer=bias_initializer),\n",
    "    # relu activation function for outputs of hidden layer\n",
    "    Activation('relu'),\n",
    "    # output layer\n",
    "    Dense(10, input_dim=512, kernel_initializer=weight_initializer, bias_initializer=bias_initializer),\n",
    "    # softmax function to get the 10 probabilities\n",
    "    Activation('softmax')\n",
    "])\n",
    "\n",
    "# define the optimizer as adam optimizer\n",
    "# the model implemented in tensorflow has a learning rate of 1e-4, and other parameters are as default\n",
    "adam = Adam(lr=1e-4, beta_1=0.9, beta_2=0.999, epsilon=None, decay=0.0, amsgrad=False)\n",
    "\n",
    "model.compile(optimizer=adam,\n",
    "              loss='categorical_crossentropy',\n",
    "              metrics=['accuracy'])\n",
    "\n",
    "checkpointer = ModelCheckpoint(filepath='weights/weights_mlp.hdf5', monitor='val_acc', verbose=1, save_best_only=True, mode='max')\n",
    "tensorboard = TensorBoard(log_dir='tensorboard/', histogram_freq=0, write_graph=True, write_images=True)\n",
    "\n",
    "model.fit(x=mnist.train.images, \n",
    "          y=mnist.train.labels, \n",
    "          validation_data=(mnist.validation.images, mnist.validation.labels), \n",
    "          callbacks=[checkpointer, tensorboard],\n",
    "          verbose=1,\n",
    "          epochs=30, \n",
    "          batch_size=100)"
   ]
  },
  {
   "cell_type": "markdown",
   "metadata": {},
   "source": [
    "## c) Evaluate performance on mnist test data"
   ]
  },
  {
   "cell_type": "code",
   "execution_count": 58,
   "metadata": {},
   "outputs": [
    {
     "name": "stdout",
     "output_type": "stream",
     "text": [
      "Accuracy on the MNIST test set: 0.9789, validation accuracy: 0.9796\n"
     ]
    }
   ],
   "source": [
    "test_accuracy = model.evaluate(mnist.test.images, mnist.test.labels, verbose=0)[1]\n",
    "validation_accuracy = model.evaluate(mnist.validation.images, mnist.validation.labels, verbose=0)[1]\n",
    "print(\"Accuracy on the MNIST test set: {}, validation accuracy: {}\".format(test_accuracy, validation_accuracy))"
   ]
  },
  {
   "cell_type": "markdown",
   "metadata": {},
   "source": [
    "## d) Plot 10 random images with true and predicted labels"
   ]
  },
  {
   "cell_type": "code",
   "execution_count": 59,
   "metadata": {},
   "outputs": [
    {
     "data": {
      "image/png": "[encoded data removed]",
      "text/plain": [
       "<Figure size 432x288 with 1 Axes>"
      ]
     },
     "metadata": {},
     "output_type": "display_data"
    },
    {
     "name": "stdout",
     "output_type": "stream",
     "text": [
      "Correct label: 0\n",
      "Assigned label: 0\n"
     ]
    },
    {
     "data": {
      "image/png": "[encoded data removed]",
      "text/plain": [
       "<Figure size 432x288 with 1 Axes>"
      ]
     },
     "metadata": {},
     "output_type": "display_data"
    },
    {
     "name": "stdout",
     "output_type": "stream",
     "text": [
      "Correct label: 6\n",
      "Assigned label: 6\n"
     ]
    },
    {
     "data": {
      "image/png": "[encoded data removed]",
      "text/plain": [
       "<Figure size 432x288 with 1 Axes>"
      ]
     },
     "metadata": {},
     "output_type": "display_data"
    },
    {
     "name": "stdout",
     "output_type": "stream",
     "text": [
      "Correct label: 6\n",
      "Assigned label: 6\n"
     ]
    },
    {
     "data": {
      "image/png": "[encoded data removed]",
      "text/plain": [
       "<Figure size 432x288 with 1 Axes>"
      ]
     },
     "metadata": {},
     "output_type": "display_data"
    },
    {
     "name": "stdout",
     "output_type": "stream",
     "text": [
      "Correct label: 6\n",
      "Assigned label: 6\n"
     ]
    },
    {
     "data": {
      "image/png": "[encoded data removed]",
      "text/plain": [
       "<Figure size 432x288 with 1 Axes>"
      ]
     },
     "metadata": {},
     "output_type": "display_data"
    },
    {
     "name": "stdout",
     "output_type": "stream",
     "text": [
      "Correct label: 2\n",
      "Assigned label: 2\n"
     ]
    },
    {
     "data": {
      "image/png": "[encoded data removed]",
      "text/plain": [
       "<Figure size 432x288 with 1 Axes>"
      ]
     },
     "metadata": {},
     "output_type": "display_data"
    },
    {
     "name": "stdout",
     "output_type": "stream",
     "text": [
      "Correct label: 4\n",
      "Assigned label: 4\n"
     ]
    },
    {
     "data": {
      "image/png": "[encoded data removed]",
      "text/plain": [
       "<Figure size 432x288 with 1 Axes>"
      ]
     },
     "metadata": {},
     "output_type": "display_data"
    },
    {
     "name": "stdout",
     "output_type": "stream",
     "text": [
      "Correct label: 9\n",
      "Assigned label: 9\n"
     ]
    },
    {
     "data": {
      "image/png": "[encoded data removed]",
      "text/plain": [
       "<Figure size 432x288 with 1 Axes>"
      ]
     },
     "metadata": {},
     "output_type": "display_data"
    },
    {
     "name": "stdout",
     "output_type": "stream",
     "text": [
      "Correct label: 7\n",
      "Assigned label: 7\n"
     ]
    },
    {
     "data": {
      "image/png": "[encoded data removed]",
      "text/plain": [
       "<Figure size 432x288 with 1 Axes>"
      ]
     },
     "metadata": {},
     "output_type": "display_data"
    },
    {
     "name": "stdout",
     "output_type": "stream",
     "text": [
      "Correct label: 2\n",
      "Assigned label: 2\n"
     ]
    },
    {
     "data": {
      "image/png": "[encoded data removed]",
      "text/plain": [
       "<Figure size 432x288 with 1 Axes>"
      ]
     },
     "metadata": {},
     "output_type": "display_data"
    },
    {
     "name": "stdout",
     "output_type": "stream",
     "text": [
      "Correct label: 5\n",
      "Assigned label: 5\n"
     ]
    }
   ],
   "source": [
    "for i in range(10):\n",
    "    batch = mnist.test.next_batch(1)\n",
    "    image = np.asarray(batch[0]).reshape((28, 28))\n",
    "    label = batch[1]\n",
    "    \n",
    "    plt.imshow(image, cmap='gray')\n",
    "    plt.axis(\"off\")\n",
    "    plt.show()\n",
    "    print(\"Correct label: {}\".format(np.argmax(label)))\n",
    "    print(\"Assigned label: {}\".format(np.argmax(model.predict(image.reshape(1, 784)))))"
   ]
  },
  {
   "cell_type": "markdown",
   "metadata": {},
   "source": [
    "## e) See the submitted screen shot - mlp"
   ]
  },
  {
   "cell_type": "markdown",
   "metadata": {},
   "source": [
    "## f) - g) Load the best model saved by the program"
   ]
  },
  {
   "cell_type": "code",
   "execution_count": 60,
   "metadata": {},
   "outputs": [
    {
     "name": "stdout",
     "output_type": "stream",
     "text": [
      "Model with best validation accuracy\n",
      "Accuracy on the MNIST test set: 0.9789, validation accuracy: 0.9796\n"
     ]
    }
   ],
   "source": [
    "model.load_weights(filepath='weights/weights_mlp.hdf5')\n",
    "test_accuracy_best = model.evaluate(mnist.test.images, mnist.test.labels, verbose=0)[1]\n",
    "validation_accuracy_best = model.evaluate(mnist.validation.images, mnist.validation.labels, verbose=0)[1]\n",
    "print(\"Model with best validation accuracy\\nAccuracy on the MNIST test set: {}, validation accuracy: {}\".format(test_accuracy_best, validation_accuracy_best))"
   ]
  },
  {
   "cell_type": "markdown",
   "metadata": {},
   "source": [
    "## A Simple Convolutional Neural Network: LeNet"
   ]
  },
  {
   "cell_type": "markdown",
   "metadata": {},
   "source": [
    "Here we make our first CNN. It's quite simple network, but it's surprisingly good at this handwritten digit recognition task. This a variant on Yann LeCun's CNN network that really helped to move deep learning forward."
   ]
  },
  {
   "cell_type": "markdown",
   "metadata": {},
   "source": [
    "We define both weight and bias variables and how they are to be initialized. Note that the weights are are distributed according to a standard normal distribution (mean = 0, std = 0.1). This random initialization helps avoid hidden units get stuck together, as units that start with the same value will be updated identically in the non-convolutional layers. In contrast, the bias variables are set to a small positive number--this is help prevent hidden units from starting out and getting stuck in the zero part of the ReLu. "
   ]
  },
  {
   "cell_type": "code",
   "execution_count": 22,
   "metadata": {
    "collapsed": true
   },
   "outputs": [],
   "source": [
    "def weight_variable(shape):\n",
    "  initial = tf.truncated_normal(shape, stddev=0.1)\n",
    "  return tf.Variable(initial)\n",
    "\n",
    "def bias_variable(shape):\n",
    "  initial = tf.constant(0.1, shape=shape)\n",
    "  return tf.Variable(initial)"
   ]
  },
  {
   "cell_type": "markdown",
   "metadata": {},
   "source": [
    "Next we define how the convolution is to be computed and the extent and type of pooling. The convolution will use a 5x5 kernel and will pad the image with zeros around the edges and use a stride of 1 pixel so that the resulting image (after convolution) has the same size as the original input image. The network will learn the weights for a stack of 32 separate kernels along with 32 bias variables. Finally, after the ReLu is performed the result will be under go 2x2 max pooling, thus halfing both dimensions of the image. The choices for the stride, padding, and pooling are not parameters that the network needs to estimate. Rather these are termed \"hyperparamters\" that are usually set by the network designer."
   ]
  },
  {
   "cell_type": "code",
   "execution_count": 23,
   "metadata": {
    "collapsed": true
   },
   "outputs": [],
   "source": [
    "def conv2d(x, W):\n",
    "  return tf.nn.conv2d(x, W, strides=[1, 1, 1, 1], padding='SAME')\n",
    "\n",
    "def max_pool_2x2(x):\n",
    "  return tf.nn.max_pool(x, ksize=[1, 2, 2, 1],\n",
    "                        strides=[1, 2, 2, 1], padding='SAME')"
   ]
  },
  {
   "cell_type": "markdown",
   "metadata": {},
   "source": [
    "This creates the weight and bias variables for the first convolutional layer as described above. Note the output has depth 32, so there will be 32 feature images after this layer."
   ]
  },
  {
   "cell_type": "code",
   "execution_count": 24,
   "metadata": {
    "collapsed": true
   },
   "outputs": [],
   "source": [
    "W_conv1 = weight_variable([5, 5, 1, 32])\n",
    "b_conv1 = bias_variable([32])"
   ]
  },
  {
   "cell_type": "markdown",
   "metadata": {},
   "source": [
    "Unlike for our softmax regressor above, here we need keep the images as images and not collapse these into vectors; this allows us to perform the 2D convolution."
   ]
  },
  {
   "cell_type": "code",
   "execution_count": 25,
   "metadata": {
    "collapsed": true
   },
   "outputs": [],
   "source": [
    "x_image = tf.reshape(x, [-1,28,28,1])"
   ]
  },
  {
   "cell_type": "markdown",
   "metadata": {},
   "source": [
    "Finally, we define are first layer of our CNN!"
   ]
  },
  {
   "cell_type": "code",
   "execution_count": 26,
   "metadata": {
    "collapsed": true
   },
   "outputs": [],
   "source": [
    "h_conv1 = tf.nn.relu(conv2d(x_image, W_conv1) + b_conv1)\n",
    "h_pool1 = max_pool_2x2(h_conv1)"
   ]
  },
  {
   "cell_type": "markdown",
   "metadata": {},
   "source": [
    "And wasting no time, we define are second layer. The second layer will have to process 32 feature images coming out of the first layer. Note that the images input to this layer have $\\frac{1}{4}$ the number of pixels as the original input images due to the 2x2 pooling in the previous layer. Note that convolution layer NOT fully connected as our previous hidden layers have been. A unit in the output layer has a limited \"receptive field.\" Its connections to the input layer are spatially limited by the kernel (or filter) size. Also, because of weight sharing in convolutional layers, the number of parameters for a convolutional is the size of the kernel x the depth of the input layer x depth of the output layer + depth of the output layer. So for the second layer of our ConvNet, we have 5 x 5 x 32 x 64 + 64 = 51,264 parameters. "
   ]
  },
  {
   "cell_type": "code",
   "execution_count": 27,
   "metadata": {
    "collapsed": true
   },
   "outputs": [],
   "source": [
    "W_conv2 = weight_variable([5, 5, 32, 64])\n",
    "b_conv2 = bias_variable([64])\n",
    "\n",
    "h_conv2 = tf.nn.relu(conv2d(h_pool1, W_conv2) + b_conv2)\n",
    "h_pool2 = max_pool_2x2(h_conv2)"
   ]
  },
  {
   "cell_type": "markdown",
   "metadata": {},
   "source": [
    "After the pooling stage of our second convolutional layer, we have 64 7x7 \"feature\" images. In one penultimate fully connected hidden layer, we are going to map these feature imges to a 1024 dimensional feature space. Note we need to flatten these feature images to do this."
   ]
  },
  {
   "cell_type": "code",
   "execution_count": 28,
   "metadata": {
    "collapsed": true
   },
   "outputs": [],
   "source": [
    "W_fc1 = weight_variable([7 * 7 * 64, 1024])\n",
    "b_fc1 = bias_variable([1024])\n",
    "\n",
    "h_pool2_flat = tf.reshape(h_pool2, [-1, 7*7*64])\n",
    "h_fc1 = tf.nn.relu(tf.matmul(h_pool2_flat, W_fc1) + b_fc1)"
   ]
  },
  {
   "cell_type": "markdown",
   "metadata": {},
   "source": [
    "Dropout is added here, although it is not really needed for such small network."
   ]
  },
  {
   "cell_type": "code",
   "execution_count": 29,
   "metadata": {
    "collapsed": true
   },
   "outputs": [],
   "source": [
    "keep_prob = tf.placeholder(tf.float32)\n",
    "h_fc1_drop = tf.nn.dropout(h_fc1, keep_prob)"
   ]
  },
  {
   "cell_type": "markdown",
   "metadata": {},
   "source": [
    "We have a final linear output layer mapping features to scores topped off with a softmax cross entropy loss function, as explained earlier."
   ]
  },
  {
   "cell_type": "code",
   "execution_count": 30,
   "metadata": {
    "collapsed": true
   },
   "outputs": [],
   "source": [
    "W_fc2 = weight_variable([1024, 10])\n",
    "b_fc2 = bias_variable([10])\n",
    "\n",
    "y_conv = tf.matmul(h_fc1_drop, W_fc2) + b_fc2"
   ]
  },
  {
   "cell_type": "code",
   "execution_count": 31,
   "metadata": {
    "collapsed": true
   },
   "outputs": [],
   "source": [
    "cross_entropy = tf.reduce_mean(\n",
    "    tf.nn.softmax_cross_entropy_with_logits(labels=y_, logits=y_conv))"
   ]
  },
  {
   "cell_type": "markdown",
   "metadata": {},
   "source": [
    "For training we choose an Adam learning rate and update rule. We then run this for 20,000 iterations and evaluate our accuracy after training."
   ]
  },
  {
   "cell_type": "code",
   "execution_count": 32,
   "metadata": {},
   "outputs": [
    {
     "name": "stdout",
     "output_type": "stream",
     "text": [
      "step 0, training accuracy 0.16\n",
      "step 1000, training accuracy 0.94\n",
      "step 2000, training accuracy 1\n",
      "step 3000, training accuracy 0.98\n",
      "step 4000, training accuracy 1\n",
      "step 5000, training accuracy 0.96\n",
      "step 6000, training accuracy 0.98\n",
      "step 7000, training accuracy 1\n",
      "step 8000, training accuracy 1\n",
      "step 9000, training accuracy 0.98\n",
      "step 10000, training accuracy 1\n",
      "step 11000, training accuracy 1\n",
      "step 12000, training accuracy 1\n",
      "step 13000, training accuracy 1\n",
      "step 14000, training accuracy 1\n",
      "step 15000, training accuracy 1\n",
      "step 16000, training accuracy 1\n",
      "step 17000, training accuracy 1\n",
      "step 18000, training accuracy 1\n",
      "step 19000, training accuracy 1\n",
      "test accuracy 0.9925\n"
     ]
    }
   ],
   "source": [
    "train_step = tf.train.AdamOptimizer(1e-4).minimize(cross_entropy)\n",
    "correct_prediction = tf.equal(tf.argmax(y_conv,1), tf.argmax(y_,1))\n",
    "accuracy = tf.reduce_mean(tf.cast(correct_prediction, tf.float32))\n",
    "sess.run(tf.global_variables_initializer())\n",
    "for i in range(20000):\n",
    "  batch = mnist.train.next_batch(50)\n",
    "  if i%1000 == 0:\n",
    "    train_accuracy = accuracy.eval(feed_dict={\n",
    "        x:batch[0], y_: batch[1], keep_prob: 1.0})\n",
    "    print(\"step %d, training accuracy %g\"%(i, train_accuracy))\n",
    "  train_step.run(feed_dict={x: batch[0], y_: batch[1], keep_prob: 0.5})\n",
    "\n",
    "print(\"test accuracy %g\"%accuracy.eval(feed_dict={\n",
    "    x: mnist.test.images, y_: mnist.test.labels, keep_prob: 1.0}))"
   ]
  },
  {
   "cell_type": "markdown",
   "metadata": {},
   "source": [
    "We add an output to compuational graph that computes the label probabilities."
   ]
  },
  {
   "cell_type": "code",
   "execution_count": 33,
   "metadata": {
    "collapsed": true
   },
   "outputs": [],
   "source": [
    "y_probs = tf.nn.softmax(logits=y_conv, name=None)"
   ]
  },
  {
   "cell_type": "code",
   "execution_count": 34,
   "metadata": {},
   "outputs": [
    {
     "name": "stdout",
     "output_type": "stream",
     "text": [
      "test accuracy 0.9925\n"
     ]
    }
   ],
   "source": [
    "print(\"test accuracy %g\"%accuracy.eval(feed_dict={\n",
    "    x: mnist.test.images, y_: mnist.test.labels, keep_prob: 1.0}))"
   ]
  },
  {
   "cell_type": "markdown",
   "metadata": {},
   "source": [
    "Next we step through some test examples and see how well the network is doing."
   ]
  },
  {
   "cell_type": "code",
   "execution_count": 35,
   "metadata": {},
   "outputs": [
    {
     "data": {
      "image/png": "[encoded data removed]",
      "text/plain": [
       "<matplotlib.figure.Figure at 0x11d599f10>"
      ]
     },
     "metadata": {},
     "output_type": "display_data"
    },
    {
     "name": "stdout",
     "output_type": "stream",
     "text": [
      "Label =  [[ 0.  0.  0.  0.  0.  0.  0.  0.  0.  1.]]\n",
      "Class probabilities =  [[  5.28820287e-14   1.61565119e-12   1.47112888e-12   1.99402633e-10\n",
      "    8.20477112e-07   1.07506337e-09   4.57562201e-15   8.61227306e-07\n",
      "    3.80472631e-09   9.99998331e-01]]\n"
     ]
    },
    {
     "data": {
      "image/png": "[encoded data removed]",
      "text/plain": [
       "<matplotlib.figure.Figure at 0x11ec3dcd0>"
      ]
     },
     "metadata": {},
     "output_type": "display_data"
    },
    {
     "name": "stdout",
     "output_type": "stream",
     "text": [
      "Label =  [[ 1.  0.  0.  0.  0.  0.  0.  0.  0.  0.]]\n",
      "Class probabilities =  [[  1.00000000e+00   3.50560683e-12   1.00434594e-09   1.73949210e-14\n",
      "    8.60713218e-16   3.75027960e-12   9.13440157e-11   2.25712261e-11\n",
      "    1.23941948e-12   4.15561162e-11]]\n"
     ]
    },
    {
     "data": {
      "image/png": "[encoded data removed]",
      "text/plain": [
       "<matplotlib.figure.Figure at 0x1274c8090>"
      ]
     },
     "metadata": {},
     "output_type": "display_data"
    },
    {
     "name": "stdout",
     "output_type": "stream",
     "text": [
      "Label =  [[ 0.  0.  0.  0.  0.  0.  1.  0.  0.  0.]]\n",
      "Class probabilities =  [[  1.41643053e-09   7.71405238e-14   1.62943230e-15   5.57100261e-15\n",
      "    2.53674198e-13   1.26207560e-11   1.00000000e+00   4.33625261e-15\n",
      "    3.95802037e-11   7.02078399e-16]]\n"
     ]
    },
    {
     "data": {
      "image/png": "[encoded data removed]",
      "text/plain": [
       "<matplotlib.figure.Figure at 0x1277466d0>"
      ]
     },
     "metadata": {},
     "output_type": "display_data"
    },
    {
     "name": "stdout",
     "output_type": "stream",
     "text": [
      "Label =  [[ 0.  0.  0.  0.  0.  0.  0.  0.  0.  1.]]\n",
      "Class probabilities =  [[  3.76756785e-12   1.12312442e-11   3.20851019e-11   2.01345451e-09\n",
      "    2.59802891e-05   6.02736749e-09   2.61297559e-12   4.99466495e-08\n",
      "    6.30753760e-09   9.99974012e-01]]\n"
     ]
    },
    {
     "data": {
      "image/png": "[encoded data removed]",
      "text/plain": [
       "<matplotlib.figure.Figure at 0x12778c250>"
      ]
     },
     "metadata": {},
     "output_type": "display_data"
    },
    {
     "name": "stdout",
     "output_type": "stream",
     "text": [
      "Label =  [[ 1.  0.  0.  0.  0.  0.  0.  0.  0.  0.]]\n",
      "Class probabilities =  [[  1.00000000e+00   1.98105139e-12   1.07032493e-12   2.90848210e-14\n",
      "    8.34232247e-15   6.83068185e-12   1.36369707e-08   4.16134821e-10\n",
      "    5.86183532e-12   1.50796278e-10]]\n"
     ]
    }
   ],
   "source": [
    "for i in range(5):\n",
    "    batch = mnist.test.next_batch(1)\n",
    "    image = np.asarray(batch[0]).reshape((28, 28))\n",
    "    label = batch[1]\n",
    "    \n",
    "    plt.imshow(image)\n",
    "    plt.axis(\"off\")\n",
    "    plt.show()\n",
    "    print \"Label = \", label\n",
    "    print \"Class probabilities = \", y_probs.eval(feed_dict={\n",
    "        x: batch[0], y_: batch[1], keep_prob: 1.0})"
   ]
  },
  {
   "cell_type": "code",
   "execution_count": 81,
   "metadata": {},
   "outputs": [
    {
     "data": {
      "text/plain": [
       "range(0, 10)"
      ]
     },
     "execution_count": 81,
     "metadata": {},
     "output_type": "execute_result"
    }
   ],
   "source": [
    "range(0,10)"
   ]
  }
 ],
 "metadata": {
  "kernelspec": {
   "display_name": "Python 3",
   "language": "python",
   "name": "python3"
  },
  "language_info": {
   "codemirror_mode": {
    "name": "ipython",
    "version": 3
   },
   "file_extension": ".py",
   "mimetype": "text/x-python",
   "name": "python",
   "nbconvert_exporter": "python",
   "pygments_lexer": "ipython3",
   "version": "3.6.4"
  }
 },
 "nbformat": 4,
 "nbformat_minor": 2
}
