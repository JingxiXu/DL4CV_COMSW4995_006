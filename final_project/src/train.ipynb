{
 "cells": [
  {
   "cell_type": "code",
   "execution_count": 18,
   "metadata": {},
   "outputs": [],
   "source": [
    "import tensorflow as tf\n",
    "import keras\n",
    "import pandas as pd\n",
    "import numpy as np\n",
    "import os\n",
    "\n",
    "np.set_printoptions(suppress=True)"
   ]
  },
  {
   "cell_type": "markdown",
   "metadata": {},
   "source": [
    "## Load audio features"
   ]
  },
  {
   "cell_type": "code",
   "execution_count": 28,
   "metadata": {},
   "outputs": [],
   "source": [
    "# 3-D array to hold train audio features\n",
    "# size 6000 * 6 * 68\n",
    "train_audiofeat = np.zeros((6000, 6, 68))\n",
    "# 3-D array to hold train audio features\n",
    "# size 2000 * 6 * 68\n",
    "validation_audiofeat = np.zeros((2000, 6, 68))\n",
    "\n",
    "train_audiofeat_path = '/data/junting/ECCV/trainaudiofeat/'\n",
    "validation_audiofeat_path = '/data/junting/ECCV/validationaudiofeat/'\n",
    "\n",
    "# load train audio features\n",
    "train_audiofeat_files = os.listdir(train_audiofeat_path)\n",
    "for i, filename in enumerate(train_audiofeat_files):\n",
    "    path = os.path.join(train_audiofeat_path, filename)\n",
    "    train_audiofeat[i] = np.genfromtxt(path, delimiter=',')\n",
    "\n",
    "# load validation audio features\n",
    "validation_audiofeat_files = os.listdir(validation_audiofeat_path)\n",
    "for i, filename in enumerate(validation_audiofeat_files):\n",
    "    path = os.path.join(validation_audiofeat_path, filename)\n",
    "    validation_audiofeat[i] = np.genfromtxt(path, delimiter=',')"
   ]
  },
  {
   "cell_type": "code",
   "execution_count": 36,
   "metadata": {},
   "outputs": [
    {
     "data": {
      "text/plain": [
       "(6000, 6, 68)"
      ]
     },
     "execution_count": 36,
     "metadata": {},
     "output_type": "execute_result"
    }
   ],
   "source": [
    "train_audiofeat.shape"
   ]
  },
  {
   "cell_type": "code",
   "execution_count": 32,
   "metadata": {},
   "outputs": [
    {
     "data": {
      "text/plain": [
       "(2000, 6, 68)"
      ]
     },
     "execution_count": 32,
     "metadata": {},
     "output_type": "execute_result"
    }
   ],
   "source": [
    "validation_audiofeat.shape"
   ]
  },
  {
   "cell_type": "markdown",
   "metadata": {},
   "source": [
    "## Make the model"
   ]
  },
  {
   "cell_type": "code",
   "execution_count": null,
   "metadata": {
    "collapsed": true
   },
   "outputs": [],
   "source": []
  }
 ],
 "metadata": {
  "kernelspec": {
   "display_name": "Python 2",
   "language": "python",
   "name": "python2"
  },
  "language_info": {
   "codemirror_mode": {
    "name": "ipython",
    "version": 2
   },
   "file_extension": ".py",
   "mimetype": "text/x-python",
   "name": "python",
   "nbconvert_exporter": "python",
   "pygments_lexer": "ipython2",
   "version": "2.7.14"
  }
 },
 "nbformat": 4,
 "nbformat_minor": 2
}
